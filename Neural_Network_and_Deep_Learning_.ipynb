{
  "nbformat": 4,
  "nbformat_minor": 0,
  "metadata": {
    "colab": {
      "name": "Neural Network and Deep Learning .ipynb",
      "provenance": [],
      "collapsed_sections": [],
      "include_colab_link": true
    },
    "language_info": {
      "codemirror_mode": {
        "name": "ipython",
        "version": 3
      },
      "file_extension": ".py",
      "mimetype": "text/x-python",
      "name": "python",
      "nbconvert_exporter": "python",
      "pygments_lexer": "ipython3",
      "version": "3.5.2"
    },
    "kernelspec": {
      "display_name": "Python 3",
      "language": "python",
      "name": "python3"
    }
  },
  "cells": [
    {
      "cell_type": "markdown",
      "metadata": {
        "id": "view-in-github",
        "colab_type": "text"
      },
      "source": [
        "<a href=\"https://colab.research.google.com/github/choinkyo/Deep-Learning-and-Neural-Network/blob/master/Neural_Network_and_Deep_Learning_.ipynb\" target=\"_parent\"><img src=\"https://colab.research.google.com/assets/colab-badge.svg\" alt=\"Open In Colab\"/></a>"
      ]
    },
    {
      "cell_type": "code",
      "metadata": {
        "id": "_0lDkFZq3ohI",
        "colab": {
          "base_uri": "https://localhost:8080/",
          "height": 659
        },
        "outputId": "d79d511f-2b92-41ab-8154-d1f55797af8f"
      },
      "source": [
        "%tensorflow_version 1.14\n",
        "%matplotlib inline\n",
        "import warnings\n",
        "warnings.filterwarnings('ignore')\n",
        "\n",
        "import tensorflow as tf\n",
        "tf.logging.set_verbosity(tf.logging.ERROR)\n",
        "\n",
        "import keras\n",
        "keras.__version__\n",
        "\n",
        "!pip install numpy==1.16.1\n",
        "import numpy as np"
      ],
      "execution_count": 1,
      "outputs": [
        {
          "output_type": "stream",
          "name": "stdout",
          "text": [
            "`%tensorflow_version` only switches the major version: 1.x or 2.x.\n",
            "You set: `1.14`. This will be interpreted as: `1.x`.\n",
            "\n",
            "\n",
            "TensorFlow 1.x selected.\n"
          ]
        },
        {
          "output_type": "stream",
          "name": "stderr",
          "text": [
            "Using TensorFlow backend.\n"
          ]
        },
        {
          "output_type": "stream",
          "name": "stdout",
          "text": [
            "Collecting numpy==1.16.1\n",
            "  Downloading numpy-1.16.1-cp37-cp37m-manylinux1_x86_64.whl (17.3 MB)\n",
            "\u001b[K     |████████████████████████████████| 17.3 MB 444 kB/s \n",
            "\u001b[?25hInstalling collected packages: numpy\n",
            "  Attempting uninstall: numpy\n",
            "    Found existing installation: numpy 1.21.5\n",
            "    Uninstalling numpy-1.21.5:\n",
            "      Successfully uninstalled numpy-1.21.5\n",
            "\u001b[31mERROR: pip's dependency resolver does not currently take into account all the packages that are installed. This behaviour is the source of the following dependency conflicts.\n",
            "lucid 0.3.10 requires umap-learn, which is not installed.\n",
            "tensorflow 1.15.2 requires gast==0.2.2, but you have gast 0.5.3 which is incompatible.\n",
            "xarray 0.18.2 requires numpy>=1.17, but you have numpy 1.16.1 which is incompatible.\n",
            "tables 3.7.0 requires numpy>=1.19.0, but you have numpy 1.16.1 which is incompatible.\n",
            "scikit-image 0.18.3 requires numpy>=1.16.5, but you have numpy 1.16.1 which is incompatible.\n",
            "pywavelets 1.3.0 requires numpy>=1.17.3, but you have numpy 1.16.1 which is incompatible.\n",
            "pyerfa 2.0.0.1 requires numpy>=1.17, but you have numpy 1.16.1 which is incompatible.\n",
            "pyarrow 6.0.1 requires numpy>=1.16.6, but you have numpy 1.16.1 which is incompatible.\n",
            "pandas 1.3.5 requires numpy>=1.17.3; platform_machine != \"aarch64\" and platform_machine != \"arm64\" and python_version < \"3.10\", but you have numpy 1.16.1 which is incompatible.\n",
            "kapre 0.3.7 requires numpy>=1.18.5, but you have numpy 1.16.1 which is incompatible.\n",
            "kapre 0.3.7 requires tensorflow>=2.0.0, but you have tensorflow 1.15.2 which is incompatible.\n",
            "jaxlib 0.3.2+cuda11.cudnn805 requires numpy>=1.19, but you have numpy 1.16.1 which is incompatible.\n",
            "jax 0.3.4 requires numpy>=1.19, but you have numpy 1.16.1 which is incompatible.\n",
            "datascience 0.10.6 requires folium==0.2.1, but you have folium 0.8.3 which is incompatible.\n",
            "astropy 4.3.1 requires numpy>=1.17, but you have numpy 1.16.1 which is incompatible.\n",
            "albumentations 0.1.12 requires imgaug<0.2.7,>=0.2.5, but you have imgaug 0.2.9 which is incompatible.\u001b[0m\n",
            "Successfully installed numpy-1.16.1\n"
          ]
        },
        {
          "output_type": "display_data",
          "data": {
            "application/vnd.colab-display-data+json": {
              "pip_warning": {
                "packages": [
                  "numpy"
                ]
              }
            }
          },
          "metadata": {}
        }
      ]
    },
    {
      "cell_type": "markdown",
      "metadata": {
        "id": "bu5jf9gW3ohR"
      },
      "source": [
        "# Classifying newswires: a multi-class classification example\n",
        "\n",
        "We will build a network to classify Reuters newswires into 46 different mutually-exclusive topics. Since we have many \n",
        "classes, this problem is an instance of \"multi-class classification\", and since each data point should be classified into only one \n",
        "category, the problem is more specifically an instance of \"single-label, multi-class classification\"."
      ]
    },
    {
      "cell_type": "markdown",
      "metadata": {
        "id": "_-s49gXW3ohT"
      },
      "source": [
        "## The Reuters dataset\n",
        "\n",
        "\n",
        "We will be working with the _Reuters dataset_, a set of short newswires and their topics, published by Reuters in 1986. It's a very simple, \n",
        "widely used toy dataset for text classification. There are 46 different topics; some topics are more represented than others, but each \n",
        "topic has at least 10 examples in the training set.\n",
        "\n",
        "Like IMDB and MNIST, the Reuters dataset comes packaged as part of Keras. Let's take a look right away:"
      ]
    },
    {
      "cell_type": "code",
      "metadata": {
        "id": "yjSiBNZS3ohU",
        "colab": {
          "base_uri": "https://localhost:8080/"
        },
        "outputId": "a3a82a51-c6e6-4c4e-f979-fb736b8862d6"
      },
      "source": [
        "from keras.datasets import reuters\n",
        "\n",
        "(train_data, train_labels), (test_data, test_labels) = reuters.load_data(num_words=10000)"
      ],
      "execution_count": 2,
      "outputs": [
        {
          "output_type": "stream",
          "name": "stdout",
          "text": [
            "Downloading data from https://s3.amazonaws.com/text-datasets/reuters.npz\n",
            "2113536/2110848 [==============================] - 0s 0us/step\n"
          ]
        }
      ]
    },
    {
      "cell_type": "markdown",
      "metadata": {
        "id": "-VRrIjNI3ohX"
      },
      "source": [
        "\n",
        "Like with the IMDB dataset, the argument `num_words=10000` restricts the data to the 10,000 most frequently occurring words found in the \n",
        "data.\n",
        "\n",
        "We have 8,982 training examples and 2,246 test examples:"
      ]
    },
    {
      "cell_type": "markdown",
      "metadata": {
        "id": "FMdiLzvF3ohf"
      },
      "source": [
        "As with the IMDB reviews, each example is a list of integers (word indices):"
      ]
    },
    {
      "cell_type": "code",
      "metadata": {
        "id": "QriVgMSe3ohg",
        "colab": {
          "base_uri": "https://localhost:8080/"
        },
        "outputId": "36ac3d0c-433d-4a8d-915b-4dd3ed8f2c9c"
      },
      "source": [
        "train_data[0]"
      ],
      "execution_count": 3,
      "outputs": [
        {
          "output_type": "execute_result",
          "data": {
            "text/plain": [
              "[1,\n",
              " 2,\n",
              " 2,\n",
              " 8,\n",
              " 43,\n",
              " 10,\n",
              " 447,\n",
              " 5,\n",
              " 25,\n",
              " 207,\n",
              " 270,\n",
              " 5,\n",
              " 3095,\n",
              " 111,\n",
              " 16,\n",
              " 369,\n",
              " 186,\n",
              " 90,\n",
              " 67,\n",
              " 7,\n",
              " 89,\n",
              " 5,\n",
              " 19,\n",
              " 102,\n",
              " 6,\n",
              " 19,\n",
              " 124,\n",
              " 15,\n",
              " 90,\n",
              " 67,\n",
              " 84,\n",
              " 22,\n",
              " 482,\n",
              " 26,\n",
              " 7,\n",
              " 48,\n",
              " 4,\n",
              " 49,\n",
              " 8,\n",
              " 864,\n",
              " 39,\n",
              " 209,\n",
              " 154,\n",
              " 6,\n",
              " 151,\n",
              " 6,\n",
              " 83,\n",
              " 11,\n",
              " 15,\n",
              " 22,\n",
              " 155,\n",
              " 11,\n",
              " 15,\n",
              " 7,\n",
              " 48,\n",
              " 9,\n",
              " 4579,\n",
              " 1005,\n",
              " 504,\n",
              " 6,\n",
              " 258,\n",
              " 6,\n",
              " 272,\n",
              " 11,\n",
              " 15,\n",
              " 22,\n",
              " 134,\n",
              " 44,\n",
              " 11,\n",
              " 15,\n",
              " 16,\n",
              " 8,\n",
              " 197,\n",
              " 1245,\n",
              " 90,\n",
              " 67,\n",
              " 52,\n",
              " 29,\n",
              " 209,\n",
              " 30,\n",
              " 32,\n",
              " 132,\n",
              " 6,\n",
              " 109,\n",
              " 15,\n",
              " 17,\n",
              " 12]"
            ]
          },
          "metadata": {},
          "execution_count": 3
        }
      ]
    },
    {
      "cell_type": "markdown",
      "metadata": {
        "id": "kIvaOPin3ohj"
      },
      "source": [
        "Here's how you can decode it back to words, in case you are curious:"
      ]
    },
    {
      "cell_type": "code",
      "metadata": {
        "id": "EZg6ME3Y3ohk",
        "colab": {
          "base_uri": "https://localhost:8080/"
        },
        "outputId": "d205b778-65eb-44f4-a377-0edb0a1397d6"
      },
      "source": [
        "word_index = reuters.get_word_index()\n",
        "reverse_word_index = dict([(value, key) for (key, value) in word_index.items()])\n",
        "# Note that our indices were offset by 3\n",
        "# because 0, 1 and 2 are reserved indices for \"padding\", \"start of sequence\", and \"unknown\".\n",
        "decoded_newswire = ' '.join([reverse_word_index.get(i - 3, '?') for i in train_data[0]])\n",
        "\n",
        "print(\"The decoded text:\" + decoded_newswire)"
      ],
      "execution_count": 4,
      "outputs": [
        {
          "output_type": "stream",
          "name": "stdout",
          "text": [
            "Downloading data from https://s3.amazonaws.com/text-datasets/reuters_word_index.json\n",
            "557056/550378 [==============================] - 0s 1us/step\n",
            "The decoded text:? ? ? said as a result of its december acquisition of space co it expects earnings per share in 1987 of 1 15 to 1 30 dlrs per share up from 70 cts in 1986 the company said pretax net should rise to nine to 10 mln dlrs from six mln dlrs in 1986 and rental operation revenues to 19 to 22 mln dlrs from 12 5 mln dlrs it said cash flow per share this year should be 2 50 to three dlrs reuter 3\n"
          ]
        }
      ]
    },
    {
      "cell_type": "markdown",
      "metadata": {
        "id": "yntI1JS33oho"
      },
      "source": [
        "The label associated with an example is an integer between 0 and 45: a topic index."
      ]
    },
    {
      "cell_type": "code",
      "metadata": {
        "id": "swMqUzqz3ohq",
        "colab": {
          "base_uri": "https://localhost:8080/"
        },
        "outputId": "7d852f02-1e3c-4952-8522-f3ceb7c2dfc7"
      },
      "source": [
        "train_labels[0]"
      ],
      "execution_count": 5,
      "outputs": [
        {
          "output_type": "execute_result",
          "data": {
            "text/plain": [
              "3"
            ]
          },
          "metadata": {},
          "execution_count": 5
        }
      ]
    },
    {
      "cell_type": "markdown",
      "metadata": {
        "id": "fsLn40NK3oht"
      },
      "source": [
        "## Preparing the data\n",
        "\n",
        "We can vectorize the data with the exact same code as in our previous example:"
      ]
    },
    {
      "cell_type": "code",
      "metadata": {
        "id": "NDol7z_43ohu"
      },
      "source": [
        "import numpy as np\n",
        "\n",
        "def vectorize_sequences(sequences, dimension=10000):\n",
        "    results = np.zeros((len(sequences), dimension))\n",
        "    for i, sequence in enumerate(sequences):\n",
        "        results[i, sequence] = 1.\n",
        "    return results\n",
        "\n",
        "# Our vectorized training data\n",
        "x_train = vectorize_sequences(train_data)\n",
        "# Our vectorized test data\n",
        "x_test = vectorize_sequences(test_data)"
      ],
      "execution_count": 6,
      "outputs": []
    },
    {
      "cell_type": "markdown",
      "metadata": {
        "id": "9pte7Qr63ohv"
      },
      "source": [
        "\n",
        "Use \"one-hot\" encoding to vectorize the labels. One-hot encoding is a widely used format for categorical data, also called \"categorical encoding\". In our case, one-hot encoding of our labels consists in embedding each label as an all-zero vector with a 1 in the place of the label index. Note that there is a built-in way to do this in Keras."
      ]
    },
    {
      "cell_type": "code",
      "metadata": {
        "id": "XO_SmjOD3ohy"
      },
      "source": [
        "from keras.utils.np_utils import to_categorical\n",
        "\n",
        "one_hot_train_labels = to_categorical(train_labels)\n",
        "one_hot_test_labels = to_categorical(test_labels)"
      ],
      "execution_count": 7,
      "outputs": []
    },
    {
      "cell_type": "markdown",
      "metadata": {
        "id": "rMvTFcc03ohz"
      },
      "source": [
        "## Building our network\n",
        "\n",
        "\n",
        "This topic classification problem looks very similar to our previous movie review classification problem: in both cases, we are trying to \n",
        "classify short snippets of text. There is however a new constraint here: the number of output classes has gone from 2 to 46, i.e. the \n",
        "dimensionality of the output space is much larger. \n",
        "\n",
        "In a stack of `Dense` layers like what we were using, each layer can only access information present in the output of the previous layer. \n",
        "If one layer drops some information relevant to the classification problem, this information can never be recovered by later layers: each \n",
        "layer can potentially become an \"information bottleneck\". In our previous example, we were using 16-dimensional intermediate layers, but a \n",
        "16-dimensional space may be too limited to learn to separate 46 different classes: such small layers may act as information bottlenecks, \n",
        "permanently dropping relevant information.\n",
        "\n",
        "For this reason we will use larger layers. Let's go with 64 units:"
      ]
    },
    {
      "cell_type": "code",
      "metadata": {
        "id": "HdhwRTjx3ohz",
        "colab": {
          "base_uri": "https://localhost:8080/"
        },
        "outputId": "524c4c65-d12f-4b6c-d900-b5f39b46c008"
      },
      "source": [
        "from keras import models\n",
        "from keras import layers\n",
        "\n",
        "# TODO: specify the architecture of the model.\n",
        "model = models.Sequential()\n",
        "model.add(layers.Dense(64, activation='relu', input_shape=(10000,)))\n",
        "model.add(layers.Dense(64, activation='relu'))\n",
        "model.add(layers.Dense(46, activation='softmax'))\n",
        "\n",
        "model.summary()"
      ],
      "execution_count": 8,
      "outputs": [
        {
          "output_type": "stream",
          "name": "stdout",
          "text": [
            "Model: \"sequential_1\"\n",
            "_________________________________________________________________\n",
            "Layer (type)                 Output Shape              Param #   \n",
            "=================================================================\n",
            "dense_1 (Dense)              (None, 64)                640064    \n",
            "_________________________________________________________________\n",
            "dense_2 (Dense)              (None, 64)                4160      \n",
            "_________________________________________________________________\n",
            "dense_3 (Dense)              (None, 46)                2990      \n",
            "=================================================================\n",
            "Total params: 647,214\n",
            "Trainable params: 647,214\n",
            "Non-trainable params: 0\n",
            "_________________________________________________________________\n"
          ]
        }
      ]
    },
    {
      "cell_type": "markdown",
      "metadata": {
        "id": "V-Aj666N3oh1"
      },
      "source": [
        "\n",
        "There are two other things you should note about this architecture:\n",
        "\n",
        "* We are ending the network with a `Dense` layer of size 46. This means that for each input sample, our network will output a \n",
        "46-dimensional vector. Each entry in this vector (each dimension) will encode a different output class.\n",
        "* The last layer uses a `softmax` activation. You have already seen this pattern in the MNIST example. It means that the network will \n",
        "output a _probability distribution_ over the 46 different output classes, i.e. for every input sample, the network will produce a \n",
        "46-dimensional output vector where `output[i]` is the probability that the sample belongs to class `i`. The 46 scores will sum to 1.\n",
        "\n",
        "The best loss function to use in this case is `categorical_crossentropy`. It measures the distance between two probability distributions: \n",
        "in our case, between the probability distribution output by our network, and the true distribution of the labels. By minimizing the \n",
        "distance between these two distributions, we train our network to output something as close as possible to the true labels."
      ]
    },
    {
      "cell_type": "code",
      "metadata": {
        "id": "AhmA6zNZ3oh1"
      },
      "source": [
        "# TODO: compile the model you just built\n",
        "# TODO: compile the network with optimizer, loss and metrics specified.\n",
        "\n",
        "from keras import optimizers\n",
        "from keras import losses\n",
        "from keras import metrics\n",
        "\n",
        "model.compile(optimizer='rmsprop', \n",
        "                loss='categorical_crossentropy', \n",
        "                metrics=['accuracy']\n",
        "                )\n",
        "\n",
        "model.compile(optimizer=optimizers.RMSprop(lr=0.001),\n",
        "              loss=losses.categorical_crossentropy,\n",
        "              metrics=[metrics.categorical_accuracy])"
      ],
      "execution_count": 9,
      "outputs": []
    },
    {
      "cell_type": "markdown",
      "metadata": {
        "id": "TGB_cp8B3oh2"
      },
      "source": [
        "## Validating our approach\n",
        "\n",
        "Let's set apart 1,000 samples in our training data to use as a validation set:"
      ]
    },
    {
      "cell_type": "code",
      "metadata": {
        "id": "Y3eyzgOA3oh2"
      },
      "source": [
        "x_val = x_train[:1000]\n",
        "partial_x_train = x_train[1000:]\n",
        "\n",
        "y_val = one_hot_train_labels[:1000]\n",
        "partial_y_train = one_hot_train_labels[1000:]"
      ],
      "execution_count": 10,
      "outputs": []
    },
    {
      "cell_type": "markdown",
      "metadata": {
        "id": "vIFUZkt43oh3"
      },
      "source": [
        "Now let's train our network for 20 epochs:"
      ]
    },
    {
      "cell_type": "code",
      "metadata": {
        "id": "MM57jbod3oh3",
        "colab": {
          "base_uri": "https://localhost:8080/"
        },
        "outputId": "63464fa0-7f5b-4905-9ad8-07817c83b4e0"
      },
      "source": [
        "# TODO: fit the model with the training dataset and provide validation data \n",
        "# to help check overfitting\n",
        "\n",
        "history = model.fit(\n",
        "    partial_x_train, \n",
        "    partial_y_train, \n",
        "    epochs=20, \n",
        "    batch_size=512, \n",
        "    validation_data=(x_val, y_val)\n",
        ")"
      ],
      "execution_count": 11,
      "outputs": [
        {
          "output_type": "stream",
          "name": "stdout",
          "text": [
            "Train on 7982 samples, validate on 1000 samples\n",
            "Epoch 1/20\n",
            "7982/7982 [==============================] - 1s 157us/step - loss: 2.5214 - categorical_accuracy: 0.5322 - val_loss: 1.6635 - val_categorical_accuracy: 0.6580\n",
            "Epoch 2/20\n",
            "7982/7982 [==============================] - 1s 123us/step - loss: 1.3601 - categorical_accuracy: 0.7129 - val_loss: 1.2697 - val_categorical_accuracy: 0.7230\n",
            "Epoch 3/20\n",
            "7982/7982 [==============================] - 1s 120us/step - loss: 1.0130 - categorical_accuracy: 0.7806 - val_loss: 1.1136 - val_categorical_accuracy: 0.7730\n",
            "Epoch 4/20\n",
            "7982/7982 [==============================] - 1s 119us/step - loss: 0.7975 - categorical_accuracy: 0.8309 - val_loss: 1.0409 - val_categorical_accuracy: 0.7800\n",
            "Epoch 5/20\n",
            "7982/7982 [==============================] - 1s 119us/step - loss: 0.6343 - categorical_accuracy: 0.8642 - val_loss: 0.9858 - val_categorical_accuracy: 0.7890\n",
            "Epoch 6/20\n",
            "7982/7982 [==============================] - 1s 123us/step - loss: 0.5108 - categorical_accuracy: 0.8895 - val_loss: 0.9194 - val_categorical_accuracy: 0.8120\n",
            "Epoch 7/20\n",
            "7982/7982 [==============================] - 1s 122us/step - loss: 0.4075 - categorical_accuracy: 0.9126 - val_loss: 0.8962 - val_categorical_accuracy: 0.8190\n",
            "Epoch 8/20\n",
            "7982/7982 [==============================] - 1s 122us/step - loss: 0.3361 - categorical_accuracy: 0.9272 - val_loss: 0.8961 - val_categorical_accuracy: 0.8170\n",
            "Epoch 9/20\n",
            "7982/7982 [==============================] - 1s 122us/step - loss: 0.2710 - categorical_accuracy: 0.9392 - val_loss: 0.8943 - val_categorical_accuracy: 0.8130\n",
            "Epoch 10/20\n",
            "7982/7982 [==============================] - 1s 125us/step - loss: 0.2320 - categorical_accuracy: 0.9439 - val_loss: 0.9197 - val_categorical_accuracy: 0.8110\n",
            "Epoch 11/20\n",
            "7982/7982 [==============================] - 1s 120us/step - loss: 0.2006 - categorical_accuracy: 0.9505 - val_loss: 0.9194 - val_categorical_accuracy: 0.8090\n",
            "Epoch 12/20\n",
            "7982/7982 [==============================] - 1s 123us/step - loss: 0.1803 - categorical_accuracy: 0.9529 - val_loss: 0.9131 - val_categorical_accuracy: 0.8130\n",
            "Epoch 13/20\n",
            "7982/7982 [==============================] - 1s 122us/step - loss: 0.1592 - categorical_accuracy: 0.9538 - val_loss: 0.9226 - val_categorical_accuracy: 0.8170\n",
            "Epoch 14/20\n",
            "7982/7982 [==============================] - 1s 121us/step - loss: 0.1477 - categorical_accuracy: 0.9565 - val_loss: 0.9484 - val_categorical_accuracy: 0.8150\n",
            "Epoch 15/20\n",
            "7982/7982 [==============================] - 1s 120us/step - loss: 0.1382 - categorical_accuracy: 0.9538 - val_loss: 1.0255 - val_categorical_accuracy: 0.8010\n",
            "Epoch 16/20\n",
            "7982/7982 [==============================] - 1s 120us/step - loss: 0.1285 - categorical_accuracy: 0.9577 - val_loss: 0.9997 - val_categorical_accuracy: 0.8060\n",
            "Epoch 17/20\n",
            "7982/7982 [==============================] - 1s 123us/step - loss: 0.1228 - categorical_accuracy: 0.9570 - val_loss: 0.9853 - val_categorical_accuracy: 0.8070\n",
            "Epoch 18/20\n",
            "7982/7982 [==============================] - 1s 121us/step - loss: 0.1186 - categorical_accuracy: 0.9570 - val_loss: 1.0394 - val_categorical_accuracy: 0.8050\n",
            "Epoch 19/20\n",
            "7982/7982 [==============================] - 1s 123us/step - loss: 0.1167 - categorical_accuracy: 0.9565 - val_loss: 1.0663 - val_categorical_accuracy: 0.7980\n",
            "Epoch 20/20\n",
            "7982/7982 [==============================] - 1s 123us/step - loss: 0.1130 - categorical_accuracy: 0.9565 - val_loss: 1.0677 - val_categorical_accuracy: 0.7970\n"
          ]
        }
      ]
    },
    {
      "cell_type": "markdown",
      "metadata": {
        "id": "Rq5P0gWQ3oh5"
      },
      "source": [
        "Let's display its loss and accuracy curves to help identify when it starts to overfit."
      ]
    },
    {
      "cell_type": "code",
      "metadata": {
        "id": "d5YikiqWjGau",
        "colab": {
          "base_uri": "https://localhost:8080/"
        },
        "outputId": "db4d84c4-c445-472b-c153-59749f29a71f"
      },
      "source": [
        "history_dict = history.history\n",
        "history_dict.keys()"
      ],
      "execution_count": 12,
      "outputs": [
        {
          "output_type": "execute_result",
          "data": {
            "text/plain": [
              "dict_keys(['val_loss', 'val_categorical_accuracy', 'loss', 'categorical_accuracy'])"
            ]
          },
          "metadata": {},
          "execution_count": 12
        }
      ]
    },
    {
      "cell_type": "code",
      "metadata": {
        "id": "EIRFHE0U3oh5",
        "colab": {
          "base_uri": "https://localhost:8080/",
          "height": 295
        },
        "outputId": "f3740e50-0d0f-48b9-ba81-d883902c17e2"
      },
      "source": [
        "import matplotlib.pyplot as plt\n",
        "\n",
        "# TODO: plot the model loss on both training and validation data. \n",
        "acc = history.history['categorical_accuracy']\n",
        "val_acc = history.history['val_categorical_accuracy']\n",
        "loss = history.history['loss']\n",
        "val_loss = history.history['val_loss']\n",
        "\n",
        "epochs = range(1, len(acc) + 1)\n",
        "\n",
        "# \"bo\" is for \"blue dot\"\n",
        "plt.plot(epochs, loss, 'bo', label='Training loss')\n",
        "# b is for \"solid blue line\"\n",
        "plt.plot(epochs, val_loss, 'b', label='Validation loss')\n",
        "plt.title('Training and validation loss')\n",
        "plt.xlabel('Epochs')\n",
        "plt.ylabel('Loss')\n",
        "plt.legend()\n",
        "\n",
        "plt.show()"
      ],
      "execution_count": 13,
      "outputs": [
        {
          "output_type": "display_data",
          "data": {
            "text/plain": [
              "<Figure size 432x288 with 1 Axes>"
            ],
            "image/png": "[encoded data removed]"
          },
          "metadata": {
            "needs_background": "light"
          }
        }
      ]
    },
    {
      "cell_type": "code",
      "metadata": {
        "id": "M69rtt143oh6",
        "colab": {
          "base_uri": "https://localhost:8080/",
          "height": 295
        },
        "outputId": "2a3a3b35-98e1-4ab3-b4b8-14d215efeeb4"
      },
      "source": [
        "# TODO: plot prediction accuracy on both training and validation data. \n",
        "plt.clf()   # clear figure\n",
        "acc_values = history_dict['categorical_accuracy']\n",
        "val_acc_values = history_dict['val_categorical_accuracy']\n",
        "\n",
        "plt.plot(epochs, acc, 'bo', label='Training acc')\n",
        "plt.plot(epochs, val_acc, 'b', label='Validation acc')\n",
        "plt.title('Training and validation accuracy')\n",
        "plt.xlabel('Epochs')\n",
        "plt.ylabel('Loss')\n",
        "plt.legend()\n",
        "\n",
        "plt.show()"
      ],
      "execution_count": 14,
      "outputs": [
        {
          "output_type": "display_data",
          "data": {
            "text/plain": [
              "<Figure size 432x288 with 1 Axes>"
            ],
            "image/png": "[encoded data removed]"
          },
          "metadata": {
            "needs_background": "light"
          }
        }
      ]
    },
    {
      "cell_type": "markdown",
      "metadata": {
        "id": "LUarkgZd3oh7"
      },
      "source": [
        "It seems that the network starts overfitting after certain epochs. Let's train a new network from scratch for fewer epochs before it starts overfitting, then let's evaluate it on the test set:"
      ]
    },
    {
      "cell_type": "code",
      "metadata": {
        "id": "IciZ2dMP3oh8",
        "colab": {
          "base_uri": "https://localhost:8080/"
        },
        "outputId": "35eb1401-54a7-4037-9725-2fea1f1f6dcb"
      },
      "source": [
        "# TODO: retrain the model with the fewer epoches to avoid overfitting\n",
        "\n",
        "model = models.Sequential()\n",
        "model.add(layers.Dense(64, activation='relu', input_shape=(10000,)))\n",
        "model.add(layers.Dense(64, activation='relu'))\n",
        "model.add(layers.Dense(46, activation='softmax'))\n",
        "\n",
        "model.summary()\n"
      ],
      "execution_count": 15,
      "outputs": [
        {
          "output_type": "stream",
          "name": "stdout",
          "text": [
            "Model: \"sequential_2\"\n",
            "_________________________________________________________________\n",
            "Layer (type)                 Output Shape              Param #   \n",
            "=================================================================\n",
            "dense_4 (Dense)              (None, 64)                640064    \n",
            "_________________________________________________________________\n",
            "dense_5 (Dense)              (None, 64)                4160      \n",
            "_________________________________________________________________\n",
            "dense_6 (Dense)              (None, 46)                2990      \n",
            "=================================================================\n",
            "Total params: 647,214\n",
            "Trainable params: 647,214\n",
            "Non-trainable params: 0\n",
            "_________________________________________________________________\n"
          ]
        }
      ]
    },
    {
      "cell_type": "code",
      "metadata": {
        "id": "9Jf3WvO_8Xvf",
        "colab": {
          "base_uri": "https://localhost:8080/"
        },
        "outputId": "b1905e7e-d59b-4802-eb1e-a2fed72d9c73"
      },
      "source": [
        "from keras import optimizers\n",
        "from keras import losses\n",
        "from keras import metrics\n",
        "\n",
        "model.compile(optimizer='rmsprop', \n",
        "                loss='categorical_crossentropy', \n",
        "                metrics=['accuracy']\n",
        "                )\n",
        "\n",
        "history = model.fit(\n",
        "    partial_x_train, \n",
        "    partial_y_train, \n",
        "    epochs=4, \n",
        "    batch_size=512, \n",
        "    validation_data=(x_val, y_val)\n",
        ")"
      ],
      "execution_count": 16,
      "outputs": [
        {
          "output_type": "stream",
          "name": "stdout",
          "text": [
            "Train on 7982 samples, validate on 1000 samples\n",
            "Epoch 1/4\n",
            "7982/7982 [==============================] - 1s 136us/step - loss: 2.6650 - accuracy: 0.5377 - val_loss: 1.7371 - val_accuracy: 0.6280\n",
            "Epoch 2/4\n",
            "7982/7982 [==============================] - 1s 123us/step - loss: 1.4194 - accuracy: 0.6991 - val_loss: 1.3105 - val_accuracy: 0.7090\n",
            "Epoch 3/4\n",
            "7982/7982 [==============================] - 1s 128us/step - loss: 1.0529 - accuracy: 0.7720 - val_loss: 1.1276 - val_accuracy: 0.7540\n",
            "Epoch 4/4\n",
            "7982/7982 [==============================] - 1s 125us/step - loss: 0.8254 - accuracy: 0.8242 - val_loss: 1.0371 - val_accuracy: 0.7770\n"
          ]
        }
      ]
    },
    {
      "cell_type": "code",
      "metadata": {
        "id": "MpXi2Kq98SjV",
        "colab": {
          "base_uri": "https://localhost:8080/"
        },
        "outputId": "2d179c66-2ad5-4530-8818-5d6cc5b0572e"
      },
      "source": [
        "history_dict = history.history\n",
        "history_dict.keys()"
      ],
      "execution_count": 17,
      "outputs": [
        {
          "output_type": "execute_result",
          "data": {
            "text/plain": [
              "dict_keys(['val_loss', 'val_accuracy', 'loss', 'accuracy'])"
            ]
          },
          "metadata": {},
          "execution_count": 17
        }
      ]
    },
    {
      "cell_type": "code",
      "metadata": {
        "id": "gtOzBHNb8ks4",
        "colab": {
          "base_uri": "https://localhost:8080/",
          "height": 295
        },
        "outputId": "61c4af56-bf3d-4e91-d243-600c98121b8e"
      },
      "source": [
        "acc = history.history['accuracy']\n",
        "val_acc = history.history['val_accuracy']\n",
        "loss = history.history['loss']\n",
        "val_loss = history.history['val_loss']\n",
        "\n",
        "epochs = range(1, len(acc) + 1)\n",
        "\n",
        "# \"bo\" is for \"blue dot\"\n",
        "plt.plot(epochs, loss, 'bo', label='Training loss')\n",
        "# b is for \"solid blue line\"\n",
        "plt.plot(epochs, val_loss, 'b', label='Validation loss')\n",
        "plt.title('Training and validation loss')\n",
        "plt.xlabel('Epochs')\n",
        "plt.ylabel('Loss')\n",
        "plt.legend()\n",
        "\n",
        "plt.show()"
      ],
      "execution_count": 18,
      "outputs": [
        {
          "output_type": "display_data",
          "data": {
            "text/plain": [
              "<Figure size 432x288 with 1 Axes>"
            ],
            "image/png": "[encoded data removed]"
          },
          "metadata": {
            "needs_background": "light"
          }
        }
      ]
    },
    {
      "cell_type": "markdown",
      "metadata": {
        "id": "XQ3VcXyx3oh_"
      },
      "source": [
        "\n",
        "Your model should reach an accuracy of ~78%. With a balanced binary classification problem, the accuracy reached by a purely random classifier \n",
        "would be 50%, but in our case it is closer to 19%, so our results seem pretty good, at least when compared to a random baseline."
      ]
    },
    {
      "cell_type": "markdown",
      "metadata": {
        "id": "FEzjb1m33oiA"
      },
      "source": [
        "## Generating predictions on new data\n",
        "\n",
        "We can verify that the `predict` method of our model instance returns a probability distribution over all 46 topics. Let's generate topic \n",
        "predictions for all of the test data:"
      ]
    },
    {
      "cell_type": "code",
      "metadata": {
        "id": "lIuTWvUq3oiB",
        "colab": {
          "base_uri": "https://localhost:8080/"
        },
        "outputId": "4206f12c-c954-417e-8f34-ba471d165b5c"
      },
      "source": [
        "# TODO: use the learnt neural network to make a prediction on \n",
        "# the test data \n",
        "model.predict(x_test)"
      ],
      "execution_count": 19,
      "outputs": [
        {
          "output_type": "execute_result",
          "data": {
            "text/plain": [
              "array([[4.6214819e-04, 3.7568803e-03, 4.2661926e-04, ..., 1.5708252e-03,\n",
              "        5.8414767e-05, 4.7740854e-05],\n",
              "       [1.0114815e-03, 1.5823911e-01, 6.1905187e-02, ..., 9.5042598e-04,\n",
              "        4.3213397e-05, 4.5248377e-04],\n",
              "       [1.1873407e-02, 4.2588964e-01, 2.4934633e-02, ..., 3.8794596e-03,\n",
              "        3.1885235e-03, 2.5805510e-03],\n",
              "       ...,\n",
              "       [1.1176883e-03, 1.7928160e-03, 1.6755292e-04, ..., 1.0541009e-03,\n",
              "        4.2922026e-04, 1.4956684e-04],\n",
              "       [6.6538661e-04, 1.3379601e-02, 2.6733207e-03, ..., 3.1615826e-03,\n",
              "        1.8571713e-04, 1.6208937e-04],\n",
              "       [3.1490829e-03, 4.9782819e-01, 2.3084307e-02, ..., 3.0042627e-03,\n",
              "        1.1957091e-03, 1.3096082e-03]], dtype=float32)"
            ]
          },
          "metadata": {},
          "execution_count": 19
        }
      ]
    },
    {
      "cell_type": "markdown",
      "metadata": {
        "id": "O1LzmGXx3oiB"
      },
      "source": [
        "Each entry in `predictions` is a vector of length 46. **The** largest entry is the predicted class, i.e. the class with the highest probability:"
      ]
    },
    {
      "cell_type": "code",
      "metadata": {
        "id": "L3RyKAsw3oiB",
        "colab": {
          "base_uri": "https://localhost:8080/"
        },
        "outputId": "67ef1005-05a9-493c-8bd3-95ec48802413"
      },
      "source": [
        "# TODO: evaluate model performan in terms of accuracy on prediction against the ground truth.\n",
        "test_loss, test_acc = model.evaluate(x_val, y_val)\n",
        "print('test_acc:', test_acc)\n",
        "print('test_loss:', test_loss)"
      ],
      "execution_count": 20,
      "outputs": [
        {
          "output_type": "stream",
          "name": "stdout",
          "text": [
            "1000/1000 [==============================] - 0s 104us/step\n",
            "test_acc: 0.7770000100135803\n",
            "test_loss: 1.0370540447235108\n"
          ]
        }
      ]
    },
    {
      "cell_type": "markdown",
      "metadata": {
        "id": "Pw3GlSYG3oiH"
      },
      "source": [
        "## On the importance of having sufficiently large intermediate layers\n",
        "\n",
        "\n",
        "We mentioned earlier that since our final outputs were 46-dimensional, we should avoid intermediate layers with much less than 46 hidden \n",
        "units. Now let's try to see what happens when we introduce an information bottleneck by having intermediate layers significantly less than \n",
        "46-dimensional, e.g. 4-dimensional."
      ]
    },
    {
      "cell_type": "code",
      "metadata": {
        "id": "emfKokRe3oiH",
        "colab": {
          "base_uri": "https://localhost:8080/",
          "height": 937
        },
        "outputId": "971f7458-0f43-41a7-8134-b9e943d9da6f"
      },
      "source": [
        "# TODO: build a neural network with 4 neuron units in the hidden layer with the validation data \n",
        "# and evaluate its performance on the test data.\n",
        "model1 = models.Sequential()\n",
        "model1.add(layers.Dense(64, activation='relu', input_shape=(10000,)))\n",
        "model1.add(layers.Dense(4, activation='relu'))\n",
        "model1.add(layers.Dense(4, activation='relu'))\n",
        "model1.add(layers.Dense(46, activation='softmax'))\n",
        "\n",
        "model1.summary()\n",
        "\n",
        "model1.compile(optimizer='rmsprop', \n",
        "                loss='categorical_crossentropy', \n",
        "                metrics=['accuracy']\n",
        "                )\n",
        "\n",
        "history = model1.fit(\n",
        "    partial_x_train, \n",
        "    partial_y_train, \n",
        "    epochs=10, \n",
        "    batch_size=512, \n",
        "    validation_data=(x_val, y_val)\n",
        ")\n",
        "\n",
        "\n",
        "acc = history.history['accuracy']\n",
        "val_acc = history.history['val_accuracy']\n",
        "loss = history.history['loss']\n",
        "val_loss = history.history['val_loss']\n",
        "\n",
        "epochs = range(1, len(acc) + 1)\n",
        "\n",
        "# \"bo\" is for \"blue dot\"\n",
        "plt.plot(epochs, loss, 'bo', label='Training loss')\n",
        "# b is for \"solid blue line\"\n",
        "plt.plot(epochs, val_loss, 'b', label='Validation loss')\n",
        "plt.title('Training and validation loss')\n",
        "plt.xlabel('Epochs')\n",
        "plt.ylabel('Loss')\n",
        "plt.legend()\n",
        "\n",
        "plt.show()"
      ],
      "execution_count": 21,
      "outputs": [
        {
          "output_type": "stream",
          "name": "stdout",
          "text": [
            "Model: \"sequential_3\"\n",
            "_________________________________________________________________\n",
            "Layer (type)                 Output Shape              Param #   \n",
            "=================================================================\n",
            "dense_7 (Dense)              (None, 64)                640064    \n",
            "_________________________________________________________________\n",
            "dense_8 (Dense)              (None, 4)                 260       \n",
            "_________________________________________________________________\n",
            "dense_9 (Dense)              (None, 4)                 20        \n",
            "_________________________________________________________________\n",
            "dense_10 (Dense)             (None, 46)                230       \n",
            "=================================================================\n",
            "Total params: 640,574\n",
            "Trainable params: 640,574\n",
            "Non-trainable params: 0\n",
            "_________________________________________________________________\n",
            "Train on 7982 samples, validate on 1000 samples\n",
            "Epoch 1/10\n",
            "7982/7982 [==============================] - 1s 142us/step - loss: 3.6525 - accuracy: 0.0573 - val_loss: 3.4788 - val_accuracy: 0.0590\n",
            "Epoch 2/10\n",
            "7982/7982 [==============================] - 1s 124us/step - loss: 3.3397 - accuracy: 0.0890 - val_loss: 3.2678 - val_accuracy: 0.2000\n",
            "Epoch 3/10\n",
            "7982/7982 [==============================] - 1s 121us/step - loss: 3.1134 - accuracy: 0.2461 - val_loss: 3.1020 - val_accuracy: 0.2450\n",
            "Epoch 4/10\n",
            "7982/7982 [==============================] - 1s 124us/step - loss: 2.9301 - accuracy: 0.2541 - val_loss: 2.9580 - val_accuracy: 0.2510\n",
            "Epoch 5/10\n",
            "7982/7982 [==============================] - 1s 123us/step - loss: 2.7818 - accuracy: 0.2557 - val_loss: 2.8581 - val_accuracy: 0.2520\n",
            "Epoch 6/10\n",
            "7982/7982 [==============================] - 1s 122us/step - loss: 2.6661 - accuracy: 0.2553 - val_loss: 2.7671 - val_accuracy: 0.2610\n",
            "Epoch 7/10\n",
            "7982/7982 [==============================] - 1s 121us/step - loss: 2.5625 - accuracy: 0.2581 - val_loss: 2.6990 - val_accuracy: 0.2610\n",
            "Epoch 8/10\n",
            "7982/7982 [==============================] - 1s 121us/step - loss: 2.4585 - accuracy: 0.2593 - val_loss: 2.5929 - val_accuracy: 0.2580\n",
            "Epoch 9/10\n",
            "7982/7982 [==============================] - 1s 121us/step - loss: 2.3267 - accuracy: 0.2597 - val_loss: 2.4663 - val_accuracy: 0.2610\n",
            "Epoch 10/10\n",
            "7982/7982 [==============================] - 1s 122us/step - loss: 2.1518 - accuracy: 0.2601 - val_loss: 2.3106 - val_accuracy: 0.2580\n"
          ]
        },
        {
          "output_type": "display_data",
          "data": {
            "text/plain": [
              "<Figure size 432x288 with 1 Axes>"
            ],
            "image/png": "[encoded data removed]"
          },
          "metadata": {
            "needs_background": "light"
          }
        }
      ]
    },
    {
      "cell_type": "code",
      "metadata": {
        "id": "nJg4rjmFy3rG",
        "colab": {
          "base_uri": "https://localhost:8080/"
        },
        "outputId": "f45c1b56-20d8-4679-a4bb-e6d2fb48606f"
      },
      "source": [
        "# Evaluate its performance on the test data.\n",
        "test_loss, test_acc = model1.evaluate(x_val, y_val)\n",
        "print('test_acc:', test_acc)\n",
        "print('test_loss:', test_loss)"
      ],
      "execution_count": 22,
      "outputs": [
        {
          "output_type": "stream",
          "name": "stdout",
          "text": [
            "1000/1000 [==============================] - 0s 103us/step\n",
            "test_acc: 0.257999986410141\n",
            "test_loss: 2.3105969467163088\n"
          ]
        }
      ]
    },
    {
      "cell_type": "markdown",
      "metadata": {
        "id": "M6wV_AR23oiI"
      },
      "source": [
        "\n",
        "You should see the model performance drop. This drop is mostly due to the fact that we are now trying to compress a lot of information (enough information to recover the separation hyperplanes of 46 classes) into an intermediate space that is too low-dimensional. The network is able to cram _most_ of the necessary information into these 8-dimensional representations, but not all of it."
      ]
    },
    {
      "cell_type": "markdown",
      "metadata": {
        "id": "8bFLuR8b3oiI"
      },
      "source": [
        "## Try using larger or smaller hidden layers: 32 units, and 128 units, and see if you will be able to improve the model performance on the test data.\n"
      ]
    },
    {
      "cell_type": "code",
      "metadata": {
        "id": "B1v7pFMGrEik",
        "colab": {
          "base_uri": "https://localhost:8080/",
          "height": 763
        },
        "outputId": "d47c8fc8-c538-46fc-c0dd-1f6d973c7216"
      },
      "source": [
        "# TODO: Try using larger or smaller hidden layers: 32 units, and 128 units\n",
        "\n",
        "# 128 units\n",
        "model_larger = models.Sequential()\n",
        "model_larger.add(layers.Dense(64, activation='relu', input_shape=(10000,)))\n",
        "model_larger.add(layers.Dense(128, activation='relu'))\n",
        "model_larger.add(layers.Dense(128, activation='relu'))\n",
        "model_larger.add(layers.Dense(46, activation='softmax'))\n",
        "model_larger.summary()\n",
        "\n",
        "model_larger.compile(optimizer='rmsprop', \n",
        "                loss='categorical_crossentropy', \n",
        "                metrics=['accuracy']\n",
        "                )\n",
        "\n",
        "\n",
        "history = model_larger.fit(\n",
        "    partial_x_train, \n",
        "    partial_y_train, \n",
        "    epochs=5, \n",
        "    batch_size=512, \n",
        "    validation_data=(x_val, y_val)\n",
        ")\n",
        "\n",
        "\n",
        "acc = history.history['accuracy']\n",
        "val_acc = history.history['val_accuracy']\n",
        "loss = history.history['loss']\n",
        "val_loss = history.history['val_loss']\n",
        "\n",
        "epochs = range(1, len(acc) + 1)\n",
        "\n",
        "# \"bo\" is for \"blue dot\"\n",
        "plt.plot(epochs, loss, 'bo', label='Training loss')\n",
        "# b is for \"solid blue line\"\n",
        "plt.plot(epochs, val_loss, 'b', label='Validation loss')\n",
        "plt.title('Training and validation loss')\n",
        "plt.xlabel('Epochs')\n",
        "plt.ylabel('Loss')\n",
        "plt.legend()\n",
        "\n",
        "plt.show()\n"
      ],
      "execution_count": 23,
      "outputs": [
        {
          "output_type": "stream",
          "name": "stdout",
          "text": [
            "Model: \"sequential_4\"\n",
            "_________________________________________________________________\n",
            "Layer (type)                 Output Shape              Param #   \n",
            "=================================================================\n",
            "dense_11 (Dense)             (None, 64)                640064    \n",
            "_________________________________________________________________\n",
            "dense_12 (Dense)             (None, 128)               8320      \n",
            "_________________________________________________________________\n",
            "dense_13 (Dense)             (None, 128)               16512     \n",
            "_________________________________________________________________\n",
            "dense_14 (Dense)             (None, 46)                5934      \n",
            "=================================================================\n",
            "Total params: 670,830\n",
            "Trainable params: 670,830\n",
            "Non-trainable params: 0\n",
            "_________________________________________________________________\n",
            "Train on 7982 samples, validate on 1000 samples\n",
            "Epoch 1/5\n",
            "7982/7982 [==============================] - 1s 141us/step - loss: 2.3746 - accuracy: 0.4904 - val_loss: 1.5306 - val_accuracy: 0.6450\n",
            "Epoch 2/5\n",
            "7982/7982 [==============================] - 1s 122us/step - loss: 1.2960 - accuracy: 0.7031 - val_loss: 1.2694 - val_accuracy: 0.7070\n",
            "Epoch 3/5\n",
            "7982/7982 [==============================] - 1s 123us/step - loss: 0.9946 - accuracy: 0.7675 - val_loss: 1.0979 - val_accuracy: 0.7510\n",
            "Epoch 4/5\n",
            "7982/7982 [==============================] - 1s 123us/step - loss: 0.7924 - accuracy: 0.8166 - val_loss: 1.0115 - val_accuracy: 0.7710\n",
            "Epoch 5/5\n",
            "7982/7982 [==============================] - 1s 125us/step - loss: 0.5898 - accuracy: 0.8670 - val_loss: 0.9723 - val_accuracy: 0.7990\n"
          ]
        },
        {
          "output_type": "display_data",
          "data": {
            "text/plain": [
              "<Figure size 432x288 with 1 Axes>"
            ],
            "image/png": "[encoded data removed]"
          },
          "metadata": {
            "needs_background": "light"
          }
        }
      ]
    },
    {
      "cell_type": "code",
      "metadata": {
        "id": "7xTc5RnG2V0H",
        "colab": {
          "base_uri": "https://localhost:8080/"
        },
        "outputId": "d828ea84-168a-4831-a341-e6e3242a63ea"
      },
      "source": [
        "# Evaluate its performance on the test data. (unit=128)\n",
        "test_loss, test_acc = model_larger.evaluate(x_val, y_val)\n",
        "print('test_acc:', test_acc)\n",
        "print('test_loss:', test_loss)"
      ],
      "execution_count": 24,
      "outputs": [
        {
          "output_type": "stream",
          "name": "stdout",
          "text": [
            "1000/1000 [==============================] - 0s 94us/step\n",
            "test_acc: 0.7990000247955322\n",
            "test_loss: 0.9723101491928101\n"
          ]
        }
      ]
    },
    {
      "cell_type": "code",
      "metadata": {
        "id": "a3-tolY9zT7R",
        "colab": {
          "base_uri": "https://localhost:8080/",
          "height": 937
        },
        "outputId": "0e68375c-6c5d-4f03-fc6b-bba9d67c1d31"
      },
      "source": [
        "# 32 units\n",
        "model_smaller = models.Sequential()\n",
        "model_smaller.add(layers.Dense(64, activation='relu', input_shape=(10000,)))\n",
        "model_smaller.add(layers.Dense(32, activation='relu'))\n",
        "model_smaller.add(layers.Dense(32, activation='relu'))\n",
        "model_smaller.add(layers.Dense(46, activation='softmax'))\n",
        "model_smaller.summary()\n",
        "\n",
        "model_smaller.compile(optimizer='rmsprop', \n",
        "                loss='categorical_crossentropy', \n",
        "                metrics=['accuracy']\n",
        "                )\n",
        "\n",
        "history = model_larger.fit(\n",
        "    partial_x_train, \n",
        "    partial_y_train, \n",
        "    epochs=10, \n",
        "    batch_size=512, \n",
        "    validation_data=(x_val, y_val)\n",
        ")\n",
        "\n",
        "\n",
        "acc = history.history['accuracy']\n",
        "val_acc = history.history['val_accuracy']\n",
        "loss = history.history['loss']\n",
        "val_loss = history.history['val_loss']\n",
        "\n",
        "epochs = range(1, len(acc) + 1)\n",
        "\n",
        "# \"bo\" is for \"blue dot\"\n",
        "plt.plot(epochs, loss, 'bo', label='Training loss')\n",
        "# b is for \"solid blue line\"\n",
        "plt.plot(epochs, val_loss, 'b', label='Validation loss')\n",
        "plt.title('Training and validation loss')\n",
        "plt.xlabel('Epochs')\n",
        "plt.ylabel('Loss')\n",
        "plt.legend()\n",
        "\n",
        "plt.show()\n"
      ],
      "execution_count": 25,
      "outputs": [
        {
          "output_type": "stream",
          "name": "stdout",
          "text": [
            "Model: \"sequential_5\"\n",
            "_________________________________________________________________\n",
            "Layer (type)                 Output Shape              Param #   \n",
            "=================================================================\n",
            "dense_15 (Dense)             (None, 64)                640064    \n",
            "_________________________________________________________________\n",
            "dense_16 (Dense)             (None, 32)                2080      \n",
            "_________________________________________________________________\n",
            "dense_17 (Dense)             (None, 32)                1056      \n",
            "_________________________________________________________________\n",
            "dense_18 (Dense)             (None, 46)                1518      \n",
            "=================================================================\n",
            "Total params: 644,718\n",
            "Trainable params: 644,718\n",
            "Non-trainable params: 0\n",
            "_________________________________________________________________\n",
            "Train on 7982 samples, validate on 1000 samples\n",
            "Epoch 1/10\n",
            "7982/7982 [==============================] - 1s 131us/step - loss: 0.4760 - accuracy: 0.8941 - val_loss: 0.9635 - val_accuracy: 0.8030\n",
            "Epoch 2/10\n",
            "7982/7982 [==============================] - 1s 128us/step - loss: 0.3893 - accuracy: 0.9126 - val_loss: 0.9288 - val_accuracy: 0.8110\n",
            "Epoch 3/10\n",
            "7982/7982 [==============================] - 1s 129us/step - loss: 0.2956 - accuracy: 0.9354 - val_loss: 1.0589 - val_accuracy: 0.7790\n",
            "Epoch 4/10\n",
            "7982/7982 [==============================] - 1s 128us/step - loss: 0.2577 - accuracy: 0.9392 - val_loss: 1.0168 - val_accuracy: 0.8020\n",
            "Epoch 5/10\n",
            "7982/7982 [==============================] - 1s 127us/step - loss: 0.2070 - accuracy: 0.9490 - val_loss: 1.0654 - val_accuracy: 0.7920\n",
            "Epoch 6/10\n",
            "7982/7982 [==============================] - 1s 127us/step - loss: 0.2078 - accuracy: 0.9464 - val_loss: 1.0515 - val_accuracy: 0.7930\n",
            "Epoch 7/10\n",
            "7982/7982 [==============================] - 1s 126us/step - loss: 0.1638 - accuracy: 0.9545 - val_loss: 1.0962 - val_accuracy: 0.7940\n",
            "Epoch 8/10\n",
            "7982/7982 [==============================] - 1s 132us/step - loss: 0.1526 - accuracy: 0.9553 - val_loss: 1.1008 - val_accuracy: 0.8000\n",
            "Epoch 9/10\n",
            "7982/7982 [==============================] - 1s 129us/step - loss: 0.1486 - accuracy: 0.9575 - val_loss: 1.1427 - val_accuracy: 0.7870\n",
            "Epoch 10/10\n",
            "7982/7982 [==============================] - 1s 127us/step - loss: 0.1390 - accuracy: 0.9579 - val_loss: 1.2003 - val_accuracy: 0.7960\n"
          ]
        },
        {
          "output_type": "display_data",
          "data": {
            "text/plain": [
              "<Figure size 432x288 with 1 Axes>"
            ],
            "image/png": "[encoded data removed]"
          },
          "metadata": {
            "needs_background": "light"
          }
        }
      ]
    },
    {
      "cell_type": "code",
      "metadata": {
        "id": "MS25qHH72qAM",
        "colab": {
          "base_uri": "https://localhost:8080/"
        },
        "outputId": "5063cded-0691-4db8-ca6f-70ea0f38882f"
      },
      "source": [
        "# Evaluate its performance on the test data.(unit=32)\n",
        "test_loss, test_acc = model_smaller.evaluate(x_val, y_val)\n",
        "print('test_acc:', test_acc)\n",
        "print('test_loss:', test_loss)"
      ],
      "execution_count": 26,
      "outputs": [
        {
          "output_type": "stream",
          "name": "stdout",
          "text": [
            "1000/1000 [==============================] - 0s 148us/step\n",
            "test_acc: 0.029999999329447746\n",
            "test_loss: 3.8256099166870117\n"
          ]
        }
      ]
    },
    {
      "cell_type": "markdown",
      "metadata": {
        "id": "qJ1JPiTErD7X"
      },
      "source": [
        "\n",
        "## We were using two hidden layers. Now try to use a single hidden layer, or three hidden layers, and see if you will be able to improve the model performance on the test data.\n",
        "\n"
      ]
    },
    {
      "cell_type": "code",
      "metadata": {
        "id": "6zukIClyrh3k",
        "colab": {
          "base_uri": "https://localhost:8080/",
          "height": 902
        },
        "outputId": "7328da10-72cd-4fe4-b7b2-a987706653aa"
      },
      "source": [
        "# TODO: Try to use a single hidden layer, or three hidden layers\n",
        "\n",
        "# single hidden layer\n",
        "model_single = models.Sequential()\n",
        "model_single.add(layers.Dense(64, activation='relu', input_shape=(10000,)))\n",
        "model_single.add(layers.Dense(64, activation='relu'))\n",
        "model_single.add(layers.Dense(46, activation='softmax'))\n",
        "model_single.summary()\n",
        "\n",
        "model_single.compile(optimizer='rmsprop', \n",
        "                loss='categorical_crossentropy', \n",
        "                metrics=['accuracy']\n",
        "                )\n",
        "\n",
        "history = model_single.fit(\n",
        "    partial_x_train, \n",
        "    partial_y_train, \n",
        "    epochs=10, \n",
        "    batch_size=512, \n",
        "    validation_data=(x_val, y_val)\n",
        ")\n",
        "\n",
        "acc = history.history['accuracy']\n",
        "val_acc = history.history['val_accuracy']\n",
        "loss = history.history['loss']\n",
        "val_loss = history.history['val_loss']\n",
        "\n",
        "epochs = range(1, len(acc) + 1)\n",
        "\n",
        "# \"bo\" is for \"blue dot\"\n",
        "plt.plot(epochs, loss, 'bo', label='Training loss')\n",
        "# b is for \"solid blue line\"\n",
        "plt.plot(epochs, val_loss, 'b', label='Validation loss')\n",
        "plt.title('Training and validation loss')\n",
        "plt.xlabel('Epochs')\n",
        "plt.ylabel('Loss')\n",
        "plt.legend()\n",
        "\n",
        "plt.show()"
      ],
      "execution_count": 27,
      "outputs": [
        {
          "output_type": "stream",
          "name": "stdout",
          "text": [
            "Model: \"sequential_6\"\n",
            "_________________________________________________________________\n",
            "Layer (type)                 Output Shape              Param #   \n",
            "=================================================================\n",
            "dense_19 (Dense)             (None, 64)                640064    \n",
            "_________________________________________________________________\n",
            "dense_20 (Dense)             (None, 64)                4160      \n",
            "_________________________________________________________________\n",
            "dense_21 (Dense)             (None, 46)                2990      \n",
            "=================================================================\n",
            "Total params: 647,214\n",
            "Trainable params: 647,214\n",
            "Non-trainable params: 0\n",
            "_________________________________________________________________\n",
            "Train on 7982 samples, validate on 1000 samples\n",
            "Epoch 1/10\n",
            "7982/7982 [==============================] - 1s 138us/step - loss: 2.6098 - accuracy: 0.5252 - val_loss: 1.7066 - val_accuracy: 0.6520\n",
            "Epoch 2/10\n",
            "7982/7982 [==============================] - 1s 123us/step - loss: 1.3969 - accuracy: 0.7146 - val_loss: 1.3003 - val_accuracy: 0.7140\n",
            "Epoch 3/10\n",
            "7982/7982 [==============================] - 1s 124us/step - loss: 1.0376 - accuracy: 0.7830 - val_loss: 1.1466 - val_accuracy: 0.7600\n",
            "Epoch 4/10\n",
            "7982/7982 [==============================] - 1s 121us/step - loss: 0.8216 - accuracy: 0.8281 - val_loss: 1.0456 - val_accuracy: 0.7720\n",
            "Epoch 5/10\n",
            "7982/7982 [==============================] - 1s 123us/step - loss: 0.6568 - accuracy: 0.8643 - val_loss: 0.9738 - val_accuracy: 0.7940\n",
            "Epoch 6/10\n",
            "7982/7982 [==============================] - 2s 200us/step - loss: 0.5230 - accuracy: 0.8915 - val_loss: 0.9469 - val_accuracy: 0.7910\n",
            "Epoch 7/10\n",
            "7982/7982 [==============================] - 1s 151us/step - loss: 0.4195 - accuracy: 0.9137 - val_loss: 0.9132 - val_accuracy: 0.8070\n",
            "Epoch 8/10\n",
            "7982/7982 [==============================] - 1s 122us/step - loss: 0.3426 - accuracy: 0.9281 - val_loss: 0.9105 - val_accuracy: 0.8000\n",
            "Epoch 9/10\n",
            "7982/7982 [==============================] - 1s 122us/step - loss: 0.2863 - accuracy: 0.9389 - val_loss: 0.9140 - val_accuracy: 0.8120\n",
            "Epoch 10/10\n",
            "7982/7982 [==============================] - 1s 118us/step - loss: 0.2392 - accuracy: 0.9469 - val_loss: 0.9100 - val_accuracy: 0.8100\n"
          ]
        },
        {
          "output_type": "display_data",
          "data": {
            "text/plain": [
              "<Figure size 432x288 with 1 Axes>"
            ],
            "image/png": "[encoded data removed]"
          },
          "metadata": {
            "needs_background": "light"
          }
        }
      ]
    },
    {
      "cell_type": "code",
      "metadata": {
        "id": "5lfui9k9TT5N",
        "colab": {
          "base_uri": "https://localhost:8080/"
        },
        "outputId": "09fafe0e-0b1d-4445-fb76-72eeec48eba7"
      },
      "source": [
        "# Evaluate its performance on the test data.\n",
        "test_loss, test_acc = model_single.evaluate(x_val, y_val)\n",
        "print('test_acc:', test_acc)\n",
        "print('test_loss:', test_loss)"
      ],
      "execution_count": 28,
      "outputs": [
        {
          "output_type": "stream",
          "name": "stdout",
          "text": [
            "1000/1000 [==============================] - 0s 88us/step\n",
            "test_acc: 0.8100000023841858\n",
            "test_loss: 0.9100219993591309\n"
          ]
        }
      ]
    },
    {
      "cell_type": "code",
      "metadata": {
        "id": "VccdJfRL8Y4s",
        "colab": {
          "base_uri": "https://localhost:8080/",
          "height": 972
        },
        "outputId": "a65191b0-3f8e-4fad-b480-36e5b5e3b2b7"
      },
      "source": [
        "# Three hidden layers\n",
        "model_three = models.Sequential()\n",
        "model_three.add(layers.Dense(64, activation='relu', input_shape=(10000,)))\n",
        "model_three.add(layers.Dense(64, activation='relu'))\n",
        "model_three.add(layers.Dense(64, activation='relu'))\n",
        "model_three.add(layers.Dense(64, activation='relu'))\n",
        "model_three.add(layers.Dense(46, activation='softmax'))\n",
        "model_three.summary()\n",
        "\n",
        "model_three.compile(optimizer='rmsprop', \n",
        "                loss='categorical_crossentropy', \n",
        "                metrics=['accuracy']\n",
        "                )\n",
        "\n",
        "history = model_three.fit(\n",
        "    partial_x_train, \n",
        "    partial_y_train, \n",
        "    epochs=10, \n",
        "    batch_size=512, \n",
        "    validation_data=(x_val, y_val)\n",
        ")\n",
        "\n",
        "acc = history.history['accuracy']\n",
        "val_acc = history.history['val_accuracy']\n",
        "loss = history.history['loss']\n",
        "val_loss = history.history['val_loss']\n",
        "\n",
        "epochs = range(1, len(acc) + 1)\n",
        "\n",
        "# \"bo\" is for \"blue dot\"\n",
        "plt.plot(epochs, loss, 'bo', label='Training loss')\n",
        "# b is for \"solid blue line\"\n",
        "plt.plot(epochs, val_loss, 'b', label='Validation loss')\n",
        "plt.title('Training and validation loss')\n",
        "plt.xlabel('Epochs')\n",
        "plt.ylabel('Loss')\n",
        "plt.legend()\n",
        "\n",
        "plt.show()"
      ],
      "execution_count": 29,
      "outputs": [
        {
          "output_type": "stream",
          "name": "stdout",
          "text": [
            "Model: \"sequential_7\"\n",
            "_________________________________________________________________\n",
            "Layer (type)                 Output Shape              Param #   \n",
            "=================================================================\n",
            "dense_22 (Dense)             (None, 64)                640064    \n",
            "_________________________________________________________________\n",
            "dense_23 (Dense)             (None, 64)                4160      \n",
            "_________________________________________________________________\n",
            "dense_24 (Dense)             (None, 64)                4160      \n",
            "_________________________________________________________________\n",
            "dense_25 (Dense)             (None, 64)                4160      \n",
            "_________________________________________________________________\n",
            "dense_26 (Dense)             (None, 46)                2990      \n",
            "=================================================================\n",
            "Total params: 655,534\n",
            "Trainable params: 655,534\n",
            "Non-trainable params: 0\n",
            "_________________________________________________________________\n",
            "Train on 7982 samples, validate on 1000 samples\n",
            "Epoch 1/10\n",
            "7982/7982 [==============================] - 1s 143us/step - loss: 2.6236 - accuracy: 0.4105 - val_loss: 1.7391 - val_accuracy: 0.5790\n",
            "Epoch 2/10\n",
            "7982/7982 [==============================] - 1s 123us/step - loss: 1.5124 - accuracy: 0.6393 - val_loss: 1.4231 - val_accuracy: 0.6830\n",
            "Epoch 3/10\n",
            "7982/7982 [==============================] - 1s 124us/step - loss: 1.1647 - accuracy: 0.7321 - val_loss: 1.2632 - val_accuracy: 0.7190\n",
            "Epoch 4/10\n",
            "7982/7982 [==============================] - 1s 123us/step - loss: 0.9430 - accuracy: 0.7851 - val_loss: 1.1413 - val_accuracy: 0.7530\n",
            "Epoch 5/10\n",
            "7982/7982 [==============================] - 1s 120us/step - loss: 0.7517 - accuracy: 0.8304 - val_loss: 1.0739 - val_accuracy: 0.7640\n",
            "Epoch 6/10\n",
            "7982/7982 [==============================] - 1s 122us/step - loss: 0.6221 - accuracy: 0.8543 - val_loss: 1.0392 - val_accuracy: 0.7780\n",
            "Epoch 7/10\n",
            "7982/7982 [==============================] - 1s 120us/step - loss: 0.4943 - accuracy: 0.8881 - val_loss: 1.0341 - val_accuracy: 0.7820\n",
            "Epoch 8/10\n",
            "7982/7982 [==============================] - 1s 123us/step - loss: 0.4132 - accuracy: 0.9055 - val_loss: 1.0256 - val_accuracy: 0.7820\n",
            "Epoch 9/10\n",
            "7982/7982 [==============================] - 1s 122us/step - loss: 0.3475 - accuracy: 0.9194 - val_loss: 1.0547 - val_accuracy: 0.7960\n",
            "Epoch 10/10\n",
            "7982/7982 [==============================] - 1s 127us/step - loss: 0.2714 - accuracy: 0.9340 - val_loss: 1.0905 - val_accuracy: 0.7880\n"
          ]
        },
        {
          "output_type": "display_data",
          "data": {
            "text/plain": [
              "<Figure size 432x288 with 1 Axes>"
            ],
            "image/png": "[encoded data removed]"
          },
          "metadata": {
            "needs_background": "light"
          }
        }
      ]
    },
    {
      "cell_type": "code",
      "metadata": {
        "id": "Q8zV8dDWTcg5",
        "colab": {
          "base_uri": "https://localhost:8080/"
        },
        "outputId": "28c8bc1c-37ef-4e8e-a3ff-087254081cb1"
      },
      "source": [
        "# Evaluate its performance on the test data.\n",
        "test_loss, test_acc = model_three.evaluate(x_val, y_val)\n",
        "print('test_acc:', test_acc)\n",
        "print('test_loss:', test_loss)"
      ],
      "execution_count": 30,
      "outputs": [
        {
          "output_type": "stream",
          "name": "stdout",
          "text": [
            "1000/1000 [==============================] - 0s 96us/step\n",
            "test_acc: 0.7879999876022339\n",
            "test_loss: 1.0905120010375977\n"
          ]
        }
      ]
    },
    {
      "cell_type": "markdown",
      "metadata": {
        "id": "gldwCoKB3oiI"
      },
      "source": [
        "## Wrapping up\n",
        "\n",
        "\n",
        "Here's what you should take away from this example:\n",
        "\n",
        "* If you are trying to classify data points between N classes, your network should end with a `Dense` layer of size N.\n",
        "* In a single-label, multi-class classification problem, your network should end with a `softmax` activation, so that it will output a \n",
        "probability distribution over the N output classes.\n",
        "* _Categorical crossentropy_ is almost always the loss function you should use for such problems. It minimizes the distance between the \n",
        "probability distributions output by the network, and the true distribution of the targets.\n",
        "* There are two ways to handle labels in multi-class classification:\n",
        "    ** Encoding the labels via \"categorical encoding\" (also known as \"one-hot encoding\") and using `categorical_crossentropy` as your loss \n",
        "function.\n",
        "    ** Encoding the labels as integers and using the `sparse_categorical_crossentropy` loss function.\n",
        "* If you need to classify data into a large number of categories, then you should avoid creating information bottlenecks in your network by having \n",
        "intermediate layers that are too small."
      ]
    },
    {
      "cell_type": "markdown",
      "metadata": {
        "id": "aKekl-HuGXiU"
      },
      "source": [
        "## Bonus Point\n",
        "Can you think of other methods to further improve the model performance? Code it up and evaluate them."
      ]
    },
    {
      "cell_type": "code",
      "metadata": {
        "id": "38I30otcrO-r",
        "colab": {
          "base_uri": "https://localhost:8080/",
          "height": 763
        },
        "outputId": "9eb494fc-7ab0-47a5-c559-971599c2435f"
      },
      "source": [
        "# The functional API\n",
        "import keras\n",
        "from keras import layers\n",
        "from keras.layers import Input, Dense\n",
        "from keras.models import Model\n",
        "\n",
        "# This returns a tensor\n",
        "inputs = keras.Input(shape=(10000,))\n",
        "output_1 = layers.Dense(128, activation='relu')(inputs)\n",
        "output_2 = layers.Dense(128, activation='relu')(output_1)\n",
        "outputs = layers.Dense(46, activation='softmax')(output_2)\n",
        "\n",
        "# This creates a model that includes\n",
        "# the Input layer and three Dense layers\n",
        "model_func = Model(inputs=inputs, outputs=outputs)\n",
        "model_func.summary()\n",
        "\n",
        "model_func.compile(optimizer='rmsprop', \n",
        "                loss='categorical_crossentropy', \n",
        "                metrics=['accuracy']\n",
        "                )\n",
        "\n",
        "history = model_func.fit(\n",
        "    partial_x_train, \n",
        "    partial_y_train, \n",
        "    epochs=5, \n",
        "    batch_size=512, \n",
        "    validation_data=(x_val, y_val)\n",
        ")\n",
        "\n",
        "acc = history.history['accuracy']\n",
        "val_acc = history.history['val_accuracy']\n",
        "loss = history.history['loss']\n",
        "val_loss = history.history['val_loss']\n",
        "\n",
        "epochs = range(1, len(acc) + 1)\n",
        "\n",
        "# \"bo\" is for \"blue dot\"\n",
        "plt.plot(epochs, loss, 'bo', label='Training loss')\n",
        "# b is for \"solid blue line\"\n",
        "plt.plot(epochs, val_loss, 'b', label='Validation loss')\n",
        "plt.title('Training and validation loss')\n",
        "plt.xlabel('Epochs')\n",
        "plt.ylabel('Loss')\n",
        "plt.legend()\n",
        "\n",
        "plt.show()"
      ],
      "execution_count": 31,
      "outputs": [
        {
          "output_type": "stream",
          "name": "stdout",
          "text": [
            "Model: \"model_1\"\n",
            "_________________________________________________________________\n",
            "Layer (type)                 Output Shape              Param #   \n",
            "=================================================================\n",
            "input_1 (InputLayer)         (None, 10000)             0         \n",
            "_________________________________________________________________\n",
            "dense_27 (Dense)             (None, 128)               1280128   \n",
            "_________________________________________________________________\n",
            "dense_28 (Dense)             (None, 128)               16512     \n",
            "_________________________________________________________________\n",
            "dense_29 (Dense)             (None, 46)                5934      \n",
            "=================================================================\n",
            "Total params: 1,302,574\n",
            "Trainable params: 1,302,574\n",
            "Non-trainable params: 0\n",
            "_________________________________________________________________\n",
            "Train on 7982 samples, validate on 1000 samples\n",
            "Epoch 1/5\n",
            "7982/7982 [==============================] - 2s 198us/step - loss: 2.3386 - accuracy: 0.5213 - val_loss: 1.4315 - val_accuracy: 0.6800\n",
            "Epoch 2/5\n",
            "7982/7982 [==============================] - 1s 172us/step - loss: 1.1480 - accuracy: 0.7591 - val_loss: 1.1144 - val_accuracy: 0.7610\n",
            "Epoch 3/5\n",
            "7982/7982 [==============================] - 1s 172us/step - loss: 0.8099 - accuracy: 0.8295 - val_loss: 0.9753 - val_accuracy: 0.7900\n",
            "Epoch 4/5\n",
            "7982/7982 [==============================] - 1s 177us/step - loss: 0.5830 - accuracy: 0.8768 - val_loss: 0.9060 - val_accuracy: 0.8130\n",
            "Epoch 5/5\n",
            "7982/7982 [==============================] - 1s 176us/step - loss: 0.4376 - accuracy: 0.9049 - val_loss: 0.8880 - val_accuracy: 0.8130\n"
          ]
        },
        {
          "output_type": "display_data",
          "data": {
            "text/plain": [
              "<Figure size 432x288 with 1 Axes>"
            ],
            "image/png": "[encoded data removed]"
          },
          "metadata": {
            "needs_background": "light"
          }
        }
      ]
    },
    {
      "cell_type": "code",
      "metadata": {
        "id": "vJRA0B8e6lKX",
        "colab": {
          "base_uri": "https://localhost:8080/"
        },
        "outputId": "699e8493-52dc-411d-b39c-bf9309d8fabc"
      },
      "source": [
        "# Evaluate its performance on the test data.\n",
        "test_loss, test_acc = model_func.evaluate(x_val, y_val)\n",
        "print('test_acc:', test_acc)\n",
        "print('test_loss:', test_loss)"
      ],
      "execution_count": 32,
      "outputs": [
        {
          "output_type": "stream",
          "name": "stdout",
          "text": [
            "1000/1000 [==============================] - 0s 134us/step\n",
            "test_acc: 0.8130000233650208\n",
            "test_loss: 0.8880361757278442\n"
          ]
        }
      ]
    },
    {
      "cell_type": "code",
      "metadata": {
        "id": "GYgRpOPycbaf",
        "colab": {
          "base_uri": "https://localhost:8080/",
          "height": 486
        },
        "outputId": "e68d9327-1f48-4755-ed1b-3d379810c53c"
      },
      "source": [
        "# Model subclassing\n",
        "import keras\n",
        "from keras import layers\n",
        "from keras.layers import Input, Dense\n",
        "from keras.models import Model\n",
        "\n",
        "class MyModel(keras.Model): \n",
        "  def __init__(self):\n",
        "    super(MyModel, self).__init__()\n",
        "    self.dense1 = layers.Dense(128, activation='relu')\n",
        "    self.dense2 = layers.Dense(128, activation='relu')\n",
        "    self.dense2 = layers.Dense(128, activation='relu')\n",
        "    self.dense3 = layers.Dense(46, activation='softmax')\n",
        "\n",
        "  def call(self, inputs): \n",
        "    output_1 = self.dense1(inputs)\n",
        "    output_2 = self.dense2(output_1)\n",
        "    return self.dense3(output_2)\n",
        "\n",
        "model_subc = MyModel()\n",
        "\n",
        "model_subc.compile(optimizer='rmsprop', \n",
        "            loss='categorical_crossentropy', \n",
        "            metrics=['accuracy']\n",
        "            )\n",
        "\n",
        "history = model_subc.fit(\n",
        "    partial_x_train, \n",
        "    partial_y_train, \n",
        "    epochs=5, \n",
        "    batch_size=512, \n",
        "    validation_data=(x_val, y_val)\n",
        ")\n",
        "\n",
        "acc = history.history['accuracy']\n",
        "val_acc = history.history['val_accuracy']\n",
        "loss = history.history['loss']\n",
        "val_loss = history.history['val_loss']\n",
        "\n",
        "epochs = range(1, len(acc) + 1)\n",
        "\n",
        "# \"bo\" is for \"blue dot\"\n",
        "plt.plot(epochs, loss, 'bo', label='Training loss')\n",
        "# b is for \"solid blue line\"\n",
        "plt.plot(epochs, val_loss, 'b', label='Validation loss')\n",
        "plt.title('Training and validation loss')\n",
        "plt.xlabel('Epochs')\n",
        "plt.ylabel('Loss')\n",
        "plt.legend()\n",
        "\n",
        "plt.show()\n"
      ],
      "execution_count": 33,
      "outputs": [
        {
          "output_type": "stream",
          "name": "stdout",
          "text": [
            "Train on 7982 samples, validate on 1000 samples\n",
            "Epoch 1/5\n",
            "7982/7982 [==============================] - 2s 193us/step - loss: 2.2636 - accuracy: 0.5589 - val_loss: 1.4329 - val_accuracy: 0.6910\n",
            "Epoch 2/5\n",
            "7982/7982 [==============================] - 1s 167us/step - loss: 1.1408 - accuracy: 0.7541 - val_loss: 1.1210 - val_accuracy: 0.7590\n",
            "Epoch 3/5\n",
            "7982/7982 [==============================] - 1s 169us/step - loss: 0.7947 - accuracy: 0.8304 - val_loss: 1.0331 - val_accuracy: 0.7650\n",
            "Epoch 4/5\n",
            "7982/7982 [==============================] - 1s 178us/step - loss: 0.5825 - accuracy: 0.8791 - val_loss: 0.9470 - val_accuracy: 0.8020\n",
            "Epoch 5/5\n",
            "7982/7982 [==============================] - 1s 173us/step - loss: 0.4266 - accuracy: 0.9124 - val_loss: 0.9544 - val_accuracy: 0.7970\n"
          ]
        },
        {
          "output_type": "display_data",
          "data": {
            "text/plain": [
              "<Figure size 432x288 with 1 Axes>"
            ],
            "image/png": "[encoded data removed]"
          },
          "metadata": {
            "needs_background": "light"
          }
        }
      ]
    },
    {
      "cell_type": "code",
      "metadata": {
        "id": "0fl5R6QPcbhP",
        "colab": {
          "base_uri": "https://localhost:8080/"
        },
        "outputId": "66048266-fd93-4cd1-fc09-f8cdc179c480"
      },
      "source": [
        "# Evaluate its performance on the test data.\n",
        "test_loss, test_acc = model_subc.evaluate(x_val, y_val)\n",
        "print('test_acc:', test_acc)\n",
        "print('test_loss:', test_loss)"
      ],
      "execution_count": 34,
      "outputs": [
        {
          "output_type": "stream",
          "name": "stdout",
          "text": [
            "1000/1000 [==============================] - 0s 177us/step\n",
            "test_acc: 0.796999990940094\n",
            "test_loss: 0.9543546543121338\n"
          ]
        }
      ]
    },
    {
      "cell_type": "code",
      "source": [
        ""
      ],
      "metadata": {
        "id": "u7aYjMbyJepu"
      },
      "execution_count": 34,
      "outputs": []
    }
  ]
}