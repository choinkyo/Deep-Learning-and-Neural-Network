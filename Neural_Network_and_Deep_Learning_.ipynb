{
  "nbformat": 4,
  "nbformat_minor": 0,
  "metadata": {
    "colab": {
      "name": "Neural Network and Deep Learning .ipynb",
      "provenance": [],
      "collapsed_sections": [],
      "include_colab_link": true
    },
    "language_info": {
      "codemirror_mode": {
        "name": "ipython",
        "version": 3
      },
      "file_extension": ".py",
      "mimetype": "text/x-python",
      "name": "python",
      "nbconvert_exporter": "python",
      "pygments_lexer": "ipython3",
      "version": "3.5.2"
    },
    "kernelspec": {
      "display_name": "Python 3",
      "language": "python",
      "name": "python3"
    }
  },
  "cells": [
    {
      "cell_type": "markdown",
      "metadata": {
        "id": "view-in-github",
        "colab_type": "text"
      },
      "source": [
        "<a href=\"https://colab.research.google.com/github/choinkyo/Deep-Learning-and-Neural-Network/blob/master/Neural_Network_and_Deep_Learning_.ipynb\" target=\"_parent\"><img src=\"https://colab.research.google.com/assets/colab-badge.svg\" alt=\"Open In Colab\"/></a>"
      ]
    },
    {
      "cell_type": "code",
      "metadata": {
        "id": "_0lDkFZq3ohI",
        "colab_type": "code",
        "colab": {
          "base_uri": "https://localhost:8080/",
          "height": 126
        },
        "outputId": "cafb87b4-fcb0-4947-a6d3-50f2a331098c"
      },
      "source": [
        "%tensorflow_version 1.14\n",
        "%matplotlib inline\n",
        "import warnings\n",
        "warnings.filterwarnings('ignore')\n",
        "\n",
        "import tensorflow as tf\n",
        "tf.logging.set_verbosity(tf.logging.ERROR)\n",
        "\n",
        "import keras\n",
        "keras.__version__\n",
        "\n",
        "!pip install numpy==1.16.1\n",
        "import numpy as np"
      ],
      "execution_count": null,
      "outputs": [
        {
          "output_type": "stream",
          "text": [
            "`%tensorflow_version` only switches the major version: 1.x or 2.x.\n",
            "You set: `1.14`. This will be interpreted as: `1.x`.\n",
            "\n",
            "\n",
            "TensorFlow is already loaded. Please restart the runtime to change versions.\n",
            "Requirement already satisfied: numpy==1.16.1 in /usr/local/lib/python3.6/dist-packages (1.16.1)\n"
          ],
          "name": "stdout"
        }
      ]
    },
    {
      "cell_type": "markdown",
      "metadata": {
        "id": "bu5jf9gW3ohR",
        "colab_type": "text"
      },
      "source": [
        "# Classifying newswires: a multi-class classification example\n",
        "\n",
        "We will build a network to classify Reuters newswires into 46 different mutually-exclusive topics. Since we have many \n",
        "classes, this problem is an instance of \"multi-class classification\", and since each data point should be classified into only one \n",
        "category, the problem is more specifically an instance of \"single-label, multi-class classification\"."
      ]
    },
    {
      "cell_type": "markdown",
      "metadata": {
        "id": "_-s49gXW3ohT",
        "colab_type": "text"
      },
      "source": [
        "## The Reuters dataset\n",
        "\n",
        "\n",
        "We will be working with the _Reuters dataset_, a set of short newswires and their topics, published by Reuters in 1986. It's a very simple, \n",
        "widely used toy dataset for text classification. There are 46 different topics; some topics are more represented than others, but each \n",
        "topic has at least 10 examples in the training set.\n",
        "\n",
        "Like IMDB and MNIST, the Reuters dataset comes packaged as part of Keras. Let's take a look right away:"
      ]
    },
    {
      "cell_type": "code",
      "metadata": {
        "id": "yjSiBNZS3ohU",
        "colab_type": "code",
        "colab": {
          "base_uri": "https://localhost:8080/",
          "height": 54
        },
        "outputId": "365deed8-e5fa-461f-8735-2c1a8dd85af3"
      },
      "source": [
        "from keras.datasets import reuters\n",
        "\n",
        "(train_data, train_labels), (test_data, test_labels) = reuters.load_data(num_words=10000)"
      ],
      "execution_count": null,
      "outputs": [
        {
          "output_type": "stream",
          "text": [
            "Downloading data from https://s3.amazonaws.com/text-datasets/reuters.npz\n",
            "2113536/2110848 [==============================] - 0s 0us/step\n"
          ],
          "name": "stdout"
        }
      ]
    },
    {
      "cell_type": "markdown",
      "metadata": {
        "id": "-VRrIjNI3ohX",
        "colab_type": "text"
      },
      "source": [
        "\n",
        "Like with the IMDB dataset, the argument `num_words=10000` restricts the data to the 10,000 most frequently occurring words found in the \n",
        "data.\n",
        "\n",
        "We have 8,982 training examples and 2,246 test examples:"
      ]
    },
    {
      "cell_type": "markdown",
      "metadata": {
        "id": "FMdiLzvF3ohf",
        "colab_type": "text"
      },
      "source": [
        "As with the IMDB reviews, each example is a list of integers (word indices):"
      ]
    },
    {
      "cell_type": "code",
      "metadata": {
        "id": "QriVgMSe3ohg",
        "colab_type": "code",
        "colab": {}
      },
      "source": [
        "train_data[0]"
      ],
      "execution_count": null,
      "outputs": []
    },
    {
      "cell_type": "markdown",
      "metadata": {
        "id": "kIvaOPin3ohj",
        "colab_type": "text"
      },
      "source": [
        "Here's how you can decode it back to words, in case you are curious:"
      ]
    },
    {
      "cell_type": "code",
      "metadata": {
        "id": "EZg6ME3Y3ohk",
        "colab_type": "code",
        "colab": {
          "base_uri": "https://localhost:8080/",
          "height": 92
        },
        "outputId": "63fbee01-df14-4812-ed7c-a75c8373c746"
      },
      "source": [
        "word_index = reuters.get_word_index()\n",
        "reverse_word_index = dict([(value, key) for (key, value) in word_index.items()])\n",
        "# Note that our indices were offset by 3\n",
        "# because 0, 1 and 2 are reserved indices for \"padding\", \"start of sequence\", and \"unknown\".\n",
        "decoded_newswire = ' '.join([reverse_word_index.get(i - 3, '?') for i in train_data[0]])\n",
        "\n",
        "print(\"The decoded text:\" + decoded_newswire)"
      ],
      "execution_count": null,
      "outputs": [
        {
          "output_type": "stream",
          "text": [
            "Downloading data from https://s3.amazonaws.com/text-datasets/reuters_word_index.json\n",
            "557056/550378 [==============================] - 0s 0us/step\n",
            "The decoded text:? ? ? said as a result of its december acquisition of space co it expects earnings per share in 1987 of 1 15 to 1 30 dlrs per share up from 70 cts in 1986 the company said pretax net should rise to nine to 10 mln dlrs from six mln dlrs in 1986 and rental operation revenues to 19 to 22 mln dlrs from 12 5 mln dlrs it said cash flow per share this year should be 2 50 to three dlrs reuter 3\n"
          ],
          "name": "stdout"
        }
      ]
    },
    {
      "cell_type": "markdown",
      "metadata": {
        "id": "yntI1JS33oho",
        "colab_type": "text"
      },
      "source": [
        "The label associated with an example is an integer between 0 and 45: a topic index."
      ]
    },
    {
      "cell_type": "code",
      "metadata": {
        "id": "swMqUzqz3ohq",
        "colab_type": "code",
        "colab": {
          "base_uri": "https://localhost:8080/",
          "height": 35
        },
        "outputId": "9fdae1e1-b1d8-4aef-b42b-912cfcfc1ae6"
      },
      "source": [
        "train_labels[0]"
      ],
      "execution_count": null,
      "outputs": [
        {
          "output_type": "execute_result",
          "data": {
            "text/plain": [
              "3"
            ]
          },
          "metadata": {
            "tags": []
          },
          "execution_count": 6
        }
      ]
    },
    {
      "cell_type": "markdown",
      "metadata": {
        "id": "fsLn40NK3oht",
        "colab_type": "text"
      },
      "source": [
        "## Preparing the data\n",
        "\n",
        "We can vectorize the data with the exact same code as in our previous example:"
      ]
    },
    {
      "cell_type": "code",
      "metadata": {
        "id": "NDol7z_43ohu",
        "colab_type": "code",
        "colab": {}
      },
      "source": [
        "import numpy as np\n",
        "\n",
        "def vectorize_sequences(sequences, dimension=10000):\n",
        "    results = np.zeros((len(sequences), dimension))\n",
        "    for i, sequence in enumerate(sequences):\n",
        "        results[i, sequence] = 1.\n",
        "    return results\n",
        "\n",
        "# Our vectorized training data\n",
        "x_train = vectorize_sequences(train_data)\n",
        "# Our vectorized test data\n",
        "x_test = vectorize_sequences(test_data)"
      ],
      "execution_count": null,
      "outputs": []
    },
    {
      "cell_type": "markdown",
      "metadata": {
        "id": "9pte7Qr63ohv",
        "colab_type": "text"
      },
      "source": [
        "\n",
        "Use \"one-hot\" encoding to vectorize the labels. One-hot encoding is a widely used format for categorical data, also called \"categorical encoding\". In our case, one-hot encoding of our labels consists in embedding each label as an all-zero vector with a 1 in the place of the label index. Note that there is a built-in way to do this in Keras."
      ]
    },
    {
      "cell_type": "code",
      "metadata": {
        "id": "XO_SmjOD3ohy",
        "colab_type": "code",
        "colab": {}
      },
      "source": [
        "from keras.utils.np_utils import to_categorical\n",
        "\n",
        "one_hot_train_labels = to_categorical(train_labels)\n",
        "one_hot_test_labels = to_categorical(test_labels)"
      ],
      "execution_count": null,
      "outputs": []
    },
    {
      "cell_type": "markdown",
      "metadata": {
        "id": "rMvTFcc03ohz",
        "colab_type": "text"
      },
      "source": [
        "## Building our network\n",
        "\n",
        "\n",
        "This topic classification problem looks very similar to our previous movie review classification problem: in both cases, we are trying to \n",
        "classify short snippets of text. There is however a new constraint here: the number of output classes has gone from 2 to 46, i.e. the \n",
        "dimensionality of the output space is much larger. \n",
        "\n",
        "In a stack of `Dense` layers like what we were using, each layer can only access information present in the output of the previous layer. \n",
        "If one layer drops some information relevant to the classification problem, this information can never be recovered by later layers: each \n",
        "layer can potentially become an \"information bottleneck\". In our previous example, we were using 16-dimensional intermediate layers, but a \n",
        "16-dimensional space may be too limited to learn to separate 46 different classes: such small layers may act as information bottlenecks, \n",
        "permanently dropping relevant information.\n",
        "\n",
        "For this reason we will use larger layers. Let's go with 64 units:"
      ]
    },
    {
      "cell_type": "code",
      "metadata": {
        "id": "HdhwRTjx3ohz",
        "colab_type": "code",
        "colab": {
          "base_uri": "https://localhost:8080/",
          "height": 272
        },
        "outputId": "60a10701-9ec0-4b7e-e978-cd2338af0a42"
      },
      "source": [
        "from keras import models\n",
        "from keras import layers\n",
        "\n",
        "# TODO: specify the architecture of the model.\n",
        "model = models.Sequential()\n",
        "model.add(layers.Dense(64, activation='relu', input_shape=(10000,)))\n",
        "model.add(layers.Dense(64, activation='relu'))\n",
        "model.add(layers.Dense(46, activation='softmax'))\n",
        "\n",
        "model.summary()"
      ],
      "execution_count": null,
      "outputs": [
        {
          "output_type": "stream",
          "text": [
            "Model: \"sequential_1\"\n",
            "_________________________________________________________________\n",
            "Layer (type)                 Output Shape              Param #   \n",
            "=================================================================\n",
            "dense_1 (Dense)              (None, 64)                640064    \n",
            "_________________________________________________________________\n",
            "dense_2 (Dense)              (None, 64)                4160      \n",
            "_________________________________________________________________\n",
            "dense_3 (Dense)              (None, 46)                2990      \n",
            "=================================================================\n",
            "Total params: 647,214\n",
            "Trainable params: 647,214\n",
            "Non-trainable params: 0\n",
            "_________________________________________________________________\n"
          ],
          "name": "stdout"
        }
      ]
    },
    {
      "cell_type": "markdown",
      "metadata": {
        "id": "V-Aj666N3oh1",
        "colab_type": "text"
      },
      "source": [
        "\n",
        "There are two other things you should note about this architecture:\n",
        "\n",
        "* We are ending the network with a `Dense` layer of size 46. This means that for each input sample, our network will output a \n",
        "46-dimensional vector. Each entry in this vector (each dimension) will encode a different output class.\n",
        "* The last layer uses a `softmax` activation. You have already seen this pattern in the MNIST example. It means that the network will \n",
        "output a _probability distribution_ over the 46 different output classes, i.e. for every input sample, the network will produce a \n",
        "46-dimensional output vector where `output[i]` is the probability that the sample belongs to class `i`. The 46 scores will sum to 1.\n",
        "\n",
        "The best loss function to use in this case is `categorical_crossentropy`. It measures the distance between two probability distributions: \n",
        "in our case, between the probability distribution output by our network, and the true distribution of the labels. By minimizing the \n",
        "distance between these two distributions, we train our network to output something as close as possible to the true labels."
      ]
    },
    {
      "cell_type": "code",
      "metadata": {
        "id": "AhmA6zNZ3oh1",
        "colab_type": "code",
        "colab": {}
      },
      "source": [
        "# TODO: compile the model you just built\n",
        "# TODO: compile the network with optimizer, loss and metrics specified.\n",
        "\n",
        "from keras import optimizers\n",
        "from keras import losses\n",
        "from keras import metrics\n",
        "\n",
        "model.compile(optimizer='rmsprop', \n",
        "                loss='categorical_crossentropy', \n",
        "                metrics=['accuracy']\n",
        "                )\n",
        "\n",
        "model.compile(optimizer=optimizers.RMSprop(lr=0.001),\n",
        "              loss=losses.categorical_crossentropy,\n",
        "              metrics=[metrics.categorical_accuracy])"
      ],
      "execution_count": null,
      "outputs": []
    },
    {
      "cell_type": "markdown",
      "metadata": {
        "id": "TGB_cp8B3oh2",
        "colab_type": "text"
      },
      "source": [
        "## Validating our approach\n",
        "\n",
        "Let's set apart 1,000 samples in our training data to use as a validation set:"
      ]
    },
    {
      "cell_type": "code",
      "metadata": {
        "id": "Y3eyzgOA3oh2",
        "colab_type": "code",
        "colab": {}
      },
      "source": [
        "x_val = x_train[:1000]\n",
        "partial_x_train = x_train[1000:]\n",
        "\n",
        "y_val = one_hot_train_labels[:1000]\n",
        "partial_y_train = one_hot_train_labels[1000:]"
      ],
      "execution_count": null,
      "outputs": []
    },
    {
      "cell_type": "markdown",
      "metadata": {
        "id": "vIFUZkt43oh3",
        "colab_type": "text"
      },
      "source": [
        "Now let's train our network for 20 epochs:"
      ]
    },
    {
      "cell_type": "code",
      "metadata": {
        "id": "MM57jbod3oh3",
        "colab_type": "code",
        "colab": {
          "base_uri": "https://localhost:8080/",
          "height": 763
        },
        "outputId": "b7910770-55ec-4ede-c384-f0f0006b88a5"
      },
      "source": [
        "# TODO: fit the model with the training dataset and provide validation data \n",
        "# to help check overfitting\n",
        "\n",
        "history = model.fit(\n",
        "    partial_x_train, \n",
        "    partial_y_train, \n",
        "    epochs=20, \n",
        "    batch_size=512, \n",
        "    validation_data=(x_val, y_val)\n",
        ")"
      ],
      "execution_count": null,
      "outputs": [
        {
          "output_type": "stream",
          "text": [
            "Train on 7982 samples, validate on 1000 samples\n",
            "Epoch 1/20\n",
            "7982/7982 [==============================] - 1s 161us/step - loss: 2.7020 - categorical_accuracy: 0.5254 - val_loss: 1.7732 - val_categorical_accuracy: 0.6470\n",
            "Epoch 2/20\n",
            "7982/7982 [==============================] - 1s 117us/step - loss: 1.4306 - categorical_accuracy: 0.7154 - val_loss: 1.2867 - val_categorical_accuracy: 0.7410\n",
            "Epoch 3/20\n",
            "7982/7982 [==============================] - 1s 119us/step - loss: 1.0368 - categorical_accuracy: 0.7860 - val_loss: 1.1129 - val_categorical_accuracy: 0.7520\n",
            "Epoch 4/20\n",
            "7982/7982 [==============================] - 1s 118us/step - loss: 0.8125 - categorical_accuracy: 0.8276 - val_loss: 1.0073 - val_categorical_accuracy: 0.7800\n",
            "Epoch 5/20\n",
            "7982/7982 [==============================] - 1s 118us/step - loss: 0.6552 - categorical_accuracy: 0.8644 - val_loss: 0.9438 - val_categorical_accuracy: 0.7970\n",
            "Epoch 6/20\n",
            "7982/7982 [==============================] - 1s 118us/step - loss: 0.5215 - categorical_accuracy: 0.8921 - val_loss: 0.8968 - val_categorical_accuracy: 0.8140\n",
            "Epoch 7/20\n",
            "7982/7982 [==============================] - 1s 120us/step - loss: 0.4243 - categorical_accuracy: 0.9118 - val_loss: 0.9044 - val_categorical_accuracy: 0.8070\n",
            "Epoch 8/20\n",
            "7982/7982 [==============================] - 1s 118us/step - loss: 0.3446 - categorical_accuracy: 0.9270 - val_loss: 0.8893 - val_categorical_accuracy: 0.8130\n",
            "Epoch 9/20\n",
            "7982/7982 [==============================] - 1s 118us/step - loss: 0.2925 - categorical_accuracy: 0.9342 - val_loss: 0.9004 - val_categorical_accuracy: 0.8130\n",
            "Epoch 10/20\n",
            "7982/7982 [==============================] - 1s 119us/step - loss: 0.2414 - categorical_accuracy: 0.9440 - val_loss: 0.9053 - val_categorical_accuracy: 0.8140\n",
            "Epoch 11/20\n",
            "7982/7982 [==============================] - 1s 123us/step - loss: 0.2128 - categorical_accuracy: 0.9476 - val_loss: 0.9276 - val_categorical_accuracy: 0.8100\n",
            "Epoch 12/20\n",
            "7982/7982 [==============================] - 1s 120us/step - loss: 0.1861 - categorical_accuracy: 0.9518 - val_loss: 0.9328 - val_categorical_accuracy: 0.8120\n",
            "Epoch 13/20\n",
            "7982/7982 [==============================] - 1s 119us/step - loss: 0.1716 - categorical_accuracy: 0.9519 - val_loss: 0.9265 - val_categorical_accuracy: 0.8190\n",
            "Epoch 14/20\n",
            "7982/7982 [==============================] - 1s 121us/step - loss: 0.1533 - categorical_accuracy: 0.9526 - val_loss: 0.9534 - val_categorical_accuracy: 0.8130\n",
            "Epoch 15/20\n",
            "7982/7982 [==============================] - 1s 120us/step - loss: 0.1424 - categorical_accuracy: 0.9557 - val_loss: 0.9832 - val_categorical_accuracy: 0.8130\n",
            "Epoch 16/20\n",
            "7982/7982 [==============================] - 1s 119us/step - loss: 0.1315 - categorical_accuracy: 0.9560 - val_loss: 0.9811 - val_categorical_accuracy: 0.8140\n",
            "Epoch 17/20\n",
            "7982/7982 [==============================] - 1s 119us/step - loss: 0.1264 - categorical_accuracy: 0.9568 - val_loss: 0.9931 - val_categorical_accuracy: 0.8150\n",
            "Epoch 18/20\n",
            "7982/7982 [==============================] - 1s 120us/step - loss: 0.1235 - categorical_accuracy: 0.9557 - val_loss: 1.0318 - val_categorical_accuracy: 0.8060\n",
            "Epoch 19/20\n",
            "7982/7982 [==============================] - 1s 120us/step - loss: 0.1176 - categorical_accuracy: 0.9555 - val_loss: 1.0738 - val_categorical_accuracy: 0.8080\n",
            "Epoch 20/20\n",
            "7982/7982 [==============================] - 1s 121us/step - loss: 0.1117 - categorical_accuracy: 0.9572 - val_loss: 1.0687 - val_categorical_accuracy: 0.8040\n"
          ],
          "name": "stdout"
        }
      ]
    },
    {
      "cell_type": "markdown",
      "metadata": {
        "id": "Rq5P0gWQ3oh5",
        "colab_type": "text"
      },
      "source": [
        "Let's display its loss and accuracy curves to help identify when it starts to overfit."
      ]
    },
    {
      "cell_type": "code",
      "metadata": {
        "id": "d5YikiqWjGau",
        "colab_type": "code",
        "colab": {
          "base_uri": "https://localhost:8080/",
          "height": 35
        },
        "outputId": "4a397ead-9d69-4e37-ce2f-0cbe28f3caf7"
      },
      "source": [
        "history_dict = history.history\n",
        "history_dict.keys()"
      ],
      "execution_count": null,
      "outputs": [
        {
          "output_type": "execute_result",
          "data": {
            "text/plain": [
              "dict_keys(['val_loss', 'val_categorical_accuracy', 'loss', 'categorical_accuracy'])"
            ]
          },
          "metadata": {
            "tags": []
          },
          "execution_count": 13
        }
      ]
    },
    {
      "cell_type": "code",
      "metadata": {
        "id": "EIRFHE0U3oh5",
        "colab_type": "code",
        "colab": {
          "base_uri": "https://localhost:8080/",
          "height": 295
        },
        "outputId": "845cedbc-d706-4432-b06e-9472187954ed"
      },
      "source": [
        "import matplotlib.pyplot as plt\n",
        "\n",
        "# TODO: plot the model loss on both training and validation data. \n",
        "acc = history.history['categorical_accuracy']\n",
        "val_acc = history.history['val_categorical_accuracy']\n",
        "loss = history.history['loss']\n",
        "val_loss = history.history['val_loss']\n",
        "\n",
        "epochs = range(1, len(acc) + 1)\n",
        "\n",
        "# \"bo\" is for \"blue dot\"\n",
        "plt.plot(epochs, loss, 'bo', label='Training loss')\n",
        "# b is for \"solid blue line\"\n",
        "plt.plot(epochs, val_loss, 'b', label='Validation loss')\n",
        "plt.title('Training and validation loss')\n",
        "plt.xlabel('Epochs')\n",
        "plt.ylabel('Loss')\n",
        "plt.legend()\n",
        "\n",
        "plt.show()"
      ],
      "execution_count": null,
      "outputs": [
        {
          "output_type": "display_data",
          "data": {
            "image/png": "[encoded data removed]",
            "text/plain": [
              "<Figure size 432x288 with 1 Axes>"
            ]
          },
          "metadata": {
            "tags": [],
            "needs_background": "light"
          }
        }
      ]
    },
    {
      "cell_type": "code",
      "metadata": {
        "id": "M69rtt143oh6",
        "colab_type": "code",
        "colab": {
          "base_uri": "https://localhost:8080/",
          "height": 295
        },
        "outputId": "d94dd6c5-07fe-42c8-f7ab-f16c352da807"
      },
      "source": [
        "# TODO: plot prediction accuracy on both training and validation data. \n",
        "plt.clf()   # clear figure\n",
        "acc_values = history_dict['categorical_accuracy']\n",
        "val_acc_values = history_dict['val_categorical_accuracy']\n",
        "\n",
        "plt.plot(epochs, acc, 'bo', label='Training acc')\n",
        "plt.plot(epochs, val_acc, 'b', label='Validation acc')\n",
        "plt.title('Training and validation accuracy')\n",
        "plt.xlabel('Epochs')\n",
        "plt.ylabel('Loss')\n",
        "plt.legend()\n",
        "\n",
        "plt.show()"
      ],
      "execution_count": null,
      "outputs": [
        {
          "output_type": "display_data",
          "data": {
            "image/png": "[encoded data removed]",
            "text/plain": [
              "<Figure size 432x288 with 1 Axes>"
            ]
          },
          "metadata": {
            "tags": [],
            "needs_background": "light"
          }
        }
      ]
    },
    {
      "cell_type": "markdown",
      "metadata": {
        "id": "LUarkgZd3oh7",
        "colab_type": "text"
      },
      "source": [
        "It seems that the network starts overfitting after certain epochs. Let's train a new network from scratch for fewer epochs before it starts overfitting, then let's evaluate it on the test set:"
      ]
    },
    {
      "cell_type": "code",
      "metadata": {
        "id": "IciZ2dMP3oh8",
        "colab_type": "code",
        "colab": {
          "base_uri": "https://localhost:8080/",
          "height": 272
        },
        "outputId": "e80f4937-f8c3-4df1-863f-e2147b89ea1c"
      },
      "source": [
        "# TODO: retrain the model with the fewer epoches to avoid overfitting\n",
        "\n",
        "model = models.Sequential()\n",
        "model.add(layers.Dense(64, activation='relu', input_shape=(10000,)))\n",
        "model.add(layers.Dense(64, activation='relu'))\n",
        "model.add(layers.Dense(46, activation='softmax'))\n",
        "\n",
        "model.summary()\n"
      ],
      "execution_count": null,
      "outputs": [
        {
          "output_type": "stream",
          "text": [
            "Model: \"sequential_2\"\n",
            "_________________________________________________________________\n",
            "Layer (type)                 Output Shape              Param #   \n",
            "=================================================================\n",
            "dense_4 (Dense)              (None, 64)                640064    \n",
            "_________________________________________________________________\n",
            "dense_5 (Dense)              (None, 64)                4160      \n",
            "_________________________________________________________________\n",
            "dense_6 (Dense)              (None, 46)                2990      \n",
            "=================================================================\n",
            "Total params: 647,214\n",
            "Trainable params: 647,214\n",
            "Non-trainable params: 0\n",
            "_________________________________________________________________\n"
          ],
          "name": "stdout"
        }
      ]
    },
    {
      "cell_type": "code",
      "metadata": {
        "id": "9Jf3WvO_8Xvf",
        "colab_type": "code",
        "colab": {
          "base_uri": "https://localhost:8080/",
          "height": 181
        },
        "outputId": "0d539d42-2bd0-4955-ae65-87d21861bfe4"
      },
      "source": [
        "from keras import optimizers\n",
        "from keras import losses\n",
        "from keras import metrics\n",
        "\n",
        "model.compile(optimizer='rmsprop', \n",
        "                loss='categorical_crossentropy', \n",
        "                metrics=['accuracy']\n",
        "                )\n",
        "\n",
        "history = model.fit(\n",
        "    partial_x_train, \n",
        "    partial_y_train, \n",
        "    epochs=4, \n",
        "    batch_size=512, \n",
        "    validation_data=(x_val, y_val)\n",
        ")"
      ],
      "execution_count": null,
      "outputs": [
        {
          "output_type": "stream",
          "text": [
            "Train on 7982 samples, validate on 1000 samples\n",
            "Epoch 1/4\n",
            "7982/7982 [==============================] - 1s 129us/step - loss: 2.6031 - accuracy: 0.5383 - val_loss: 1.7326 - val_accuracy: 0.6300\n",
            "Epoch 2/4\n",
            "7982/7982 [==============================] - 1s 121us/step - loss: 1.4108 - accuracy: 0.7071 - val_loss: 1.2897 - val_accuracy: 0.7220\n",
            "Epoch 3/4\n",
            "7982/7982 [==============================] - 1s 119us/step - loss: 1.0345 - accuracy: 0.7769 - val_loss: 1.1261 - val_accuracy: 0.7510\n",
            "Epoch 4/4\n",
            "7982/7982 [==============================] - 1s 118us/step - loss: 0.8159 - accuracy: 0.8294 - val_loss: 1.0181 - val_accuracy: 0.7980\n"
          ],
          "name": "stdout"
        }
      ]
    },
    {
      "cell_type": "code",
      "metadata": {
        "colab_type": "code",
        "id": "MpXi2Kq98SjV",
        "colab": {
          "base_uri": "https://localhost:8080/",
          "height": 35
        },
        "outputId": "22f489fc-394d-4df6-da0c-b3c6cba0ccf7"
      },
      "source": [
        "history_dict = history.history\n",
        "history_dict.keys()"
      ],
      "execution_count": null,
      "outputs": [
        {
          "output_type": "execute_result",
          "data": {
            "text/plain": [
              "dict_keys(['val_loss', 'val_accuracy', 'loss', 'accuracy'])"
            ]
          },
          "metadata": {
            "tags": []
          },
          "execution_count": 18
        }
      ]
    },
    {
      "cell_type": "code",
      "metadata": {
        "id": "gtOzBHNb8ks4",
        "colab_type": "code",
        "colab": {
          "base_uri": "https://localhost:8080/",
          "height": 295
        },
        "outputId": "b1814a7c-2920-4ae2-9856-7b10507e7ab6"
      },
      "source": [
        "acc = history.history['accuracy']\n",
        "val_acc = history.history['val_accuracy']\n",
        "loss = history.history['loss']\n",
        "val_loss = history.history['val_loss']\n",
        "\n",
        "epochs = range(1, len(acc) + 1)\n",
        "\n",
        "# \"bo\" is for \"blue dot\"\n",
        "plt.plot(epochs, loss, 'bo', label='Training loss')\n",
        "# b is for \"solid blue line\"\n",
        "plt.plot(epochs, val_loss, 'b', label='Validation loss')\n",
        "plt.title('Training and validation loss')\n",
        "plt.xlabel('Epochs')\n",
        "plt.ylabel('Loss')\n",
        "plt.legend()\n",
        "\n",
        "plt.show()"
      ],
      "execution_count": null,
      "outputs": [
        {
          "output_type": "display_data",
          "data": {
            "image/png": "[encoded data removed]",
            "text/plain": [
              "<Figure size 432x288 with 1 Axes>"
            ]
          },
          "metadata": {
            "tags": [],
            "needs_background": "light"
          }
        }
      ]
    },
    {
      "cell_type": "markdown",
      "metadata": {
        "id": "XQ3VcXyx3oh_",
        "colab_type": "text"
      },
      "source": [
        "\n",
        "Your model should reach an accuracy of ~78%. With a balanced binary classification problem, the accuracy reached by a purely random classifier \n",
        "would be 50%, but in our case it is closer to 19%, so our results seem pretty good, at least when compared to a random baseline."
      ]
    },
    {
      "cell_type": "markdown",
      "metadata": {
        "id": "FEzjb1m33oiA",
        "colab_type": "text"
      },
      "source": [
        "## Generating predictions on new data\n",
        "\n",
        "We can verify that the `predict` method of our model instance returns a probability distribution over all 46 topics. Let's generate topic \n",
        "predictions for all of the test data:"
      ]
    },
    {
      "cell_type": "code",
      "metadata": {
        "id": "lIuTWvUq3oiB",
        "colab_type": "code",
        "colab": {
          "base_uri": "https://localhost:8080/",
          "height": 254
        },
        "outputId": "7b5e1d57-132d-49dd-b694-4fa128392ab0"
      },
      "source": [
        "# TODO: use the learnt neural network to make a prediction on \n",
        "# the test data \n",
        "model.predict(x_test)"
      ],
      "execution_count": null,
      "outputs": [
        {
          "output_type": "execute_result",
          "data": {
            "text/plain": [
              "array([[6.1044200e-05, 9.4936299e-04, 2.5253472e-04, ..., 3.8780615e-04,\n",
              "        1.9814730e-05, 1.3451086e-04],\n",
              "       [2.5007952e-02, 5.4612119e-02, 1.0757171e-01, ..., 4.1074696e-04,\n",
              "        1.5550238e-04, 3.0146533e-04],\n",
              "       [2.7422585e-02, 3.4369412e-01, 2.7619047e-02, ..., 1.9323928e-03,\n",
              "        2.0424866e-03, 2.7322643e-03],\n",
              "       ...,\n",
              "       [1.9400365e-04, 6.0652109e-04, 3.3298717e-04, ..., 1.0527567e-03,\n",
              "        1.0359598e-04, 4.8229107e-04],\n",
              "       [2.1600488e-04, 4.7687255e-03, 7.7675108e-04, ..., 1.8909024e-03,\n",
              "        1.5674665e-04, 7.3203031e-04],\n",
              "       [8.8937217e-03, 5.9341347e-01, 2.6971640e-02, ..., 1.4314499e-03,\n",
              "        5.7486509e-04, 7.1623264e-04]], dtype=float32)"
            ]
          },
          "metadata": {
            "tags": []
          },
          "execution_count": 20
        }
      ]
    },
    {
      "cell_type": "markdown",
      "metadata": {
        "id": "O1LzmGXx3oiB",
        "colab_type": "text"
      },
      "source": [
        "Each entry in `predictions` is a vector of length 46. **The** largest entry is the predicted class, i.e. the class with the highest probability:"
      ]
    },
    {
      "cell_type": "code",
      "metadata": {
        "id": "L3RyKAsw3oiB",
        "colab_type": "code",
        "colab": {
          "base_uri": "https://localhost:8080/",
          "height": 72
        },
        "outputId": "7431f6b5-8f36-4d73-c322-2a673937f8c2"
      },
      "source": [
        "# TODO: evaluate model performan in terms of accuracy on prediction against the ground truth.\n",
        "test_loss, test_acc = model.evaluate(x_val, y_val)\n",
        "print('test_acc:', test_acc)\n",
        "print('test_loss:', test_loss)"
      ],
      "execution_count": null,
      "outputs": [
        {
          "output_type": "stream",
          "text": [
            "1000/1000 [==============================] - 0s 114us/step\n",
            "test_acc: 0.7979999780654907\n",
            "test_loss: 1.018077067375183\n"
          ],
          "name": "stdout"
        }
      ]
    },
    {
      "cell_type": "markdown",
      "metadata": {
        "id": "Pw3GlSYG3oiH",
        "colab_type": "text"
      },
      "source": [
        "## On the importance of having sufficiently large intermediate layers\n",
        "\n",
        "\n",
        "We mentioned earlier that since our final outputs were 46-dimensional, we should avoid intermediate layers with much less than 46 hidden \n",
        "units. Now let's try to see what happens when we introduce an information bottleneck by having intermediate layers significantly less than \n",
        "46-dimensional, e.g. 4-dimensional."
      ]
    },
    {
      "cell_type": "code",
      "metadata": {
        "id": "emfKokRe3oiH",
        "colab_type": "code",
        "colab": {
          "base_uri": "https://localhost:8080/",
          "height": 967
        },
        "outputId": "9ebe5cb5-6351-4e99-ef39-7c14bd304b86"
      },
      "source": [
        "# TODO: build a neural network with 4 neuron units in the hidden layer with the validation data \n",
        "# and evaluate its performance on the test data.\n",
        "model1 = models.Sequential()\n",
        "model1.add(layers.Dense(64, activation='relu', input_shape=(10000,)))\n",
        "model1.add(layers.Dense(4, activation='relu'))\n",
        "model1.add(layers.Dense(4, activation='relu'))\n",
        "model1.add(layers.Dense(46, activation='softmax'))\n",
        "\n",
        "model1.summary()\n",
        "\n",
        "model1.compile(optimizer='rmsprop', \n",
        "                loss='categorical_crossentropy', \n",
        "                metrics=['accuracy']\n",
        "                )\n",
        "\n",
        "history = model1.fit(\n",
        "    partial_x_train, \n",
        "    partial_y_train, \n",
        "    epochs=10, \n",
        "    batch_size=512, \n",
        "    validation_data=(x_val, y_val)\n",
        ")\n",
        "\n",
        "\n",
        "acc = history.history['accuracy']\n",
        "val_acc = history.history['val_accuracy']\n",
        "loss = history.history['loss']\n",
        "val_loss = history.history['val_loss']\n",
        "\n",
        "epochs = range(1, len(acc) + 1)\n",
        "\n",
        "# \"bo\" is for \"blue dot\"\n",
        "plt.plot(epochs, loss, 'bo', label='Training loss')\n",
        "# b is for \"solid blue line\"\n",
        "plt.plot(epochs, val_loss, 'b', label='Validation loss')\n",
        "plt.title('Training and validation loss')\n",
        "plt.xlabel('Epochs')\n",
        "plt.ylabel('Loss')\n",
        "plt.legend()\n",
        "\n",
        "plt.show()"
      ],
      "execution_count": null,
      "outputs": [
        {
          "output_type": "stream",
          "text": [
            "Model: \"sequential_3\"\n",
            "_________________________________________________________________\n",
            "Layer (type)                 Output Shape              Param #   \n",
            "=================================================================\n",
            "dense_7 (Dense)              (None, 64)                640064    \n",
            "_________________________________________________________________\n",
            "dense_8 (Dense)              (None, 4)                 260       \n",
            "_________________________________________________________________\n",
            "dense_9 (Dense)              (None, 4)                 20        \n",
            "_________________________________________________________________\n",
            "dense_10 (Dense)             (None, 46)                230       \n",
            "=================================================================\n",
            "Total params: 640,574\n",
            "Trainable params: 640,574\n",
            "Non-trainable params: 0\n",
            "_________________________________________________________________\n",
            "Train on 7982 samples, validate on 1000 samples\n",
            "Epoch 1/10\n",
            "7982/7982 [==============================] - 1s 129us/step - loss: 3.7355 - accuracy: 0.0450 - val_loss: 3.6302 - val_accuracy: 0.0480\n",
            "Epoch 2/10\n",
            "7982/7982 [==============================] - 1s 115us/step - loss: 3.5186 - accuracy: 0.0613 - val_loss: 3.4769 - val_accuracy: 0.0880\n",
            "Epoch 3/10\n",
            "7982/7982 [==============================] - 1s 118us/step - loss: 3.3258 - accuracy: 0.1133 - val_loss: 3.3283 - val_accuracy: 0.1070\n",
            "Epoch 4/10\n",
            "7982/7982 [==============================] - 1s 115us/step - loss: 3.1303 - accuracy: 0.1661 - val_loss: 3.1682 - val_accuracy: 0.1560\n",
            "Epoch 5/10\n",
            "7982/7982 [==============================] - 1s 115us/step - loss: 2.9237 - accuracy: 0.1919 - val_loss: 3.0040 - val_accuracy: 0.1590\n",
            "Epoch 6/10\n",
            "7982/7982 [==============================] - 1s 117us/step - loss: 2.6988 - accuracy: 0.1968 - val_loss: 2.7941 - val_accuracy: 0.1630\n",
            "Epoch 7/10\n",
            "7982/7982 [==============================] - 1s 119us/step - loss: 2.4375 - accuracy: 0.2263 - val_loss: 2.5224 - val_accuracy: 0.2600\n",
            "Epoch 8/10\n",
            "7982/7982 [==============================] - 1s 115us/step - loss: 2.1229 - accuracy: 0.3797 - val_loss: 2.2065 - val_accuracy: 0.3430\n",
            "Epoch 9/10\n",
            "7982/7982 [==============================] - 1s 114us/step - loss: 1.7871 - accuracy: 0.4754 - val_loss: 1.9007 - val_accuracy: 0.5980\n",
            "Epoch 10/10\n",
            "7982/7982 [==============================] - 1s 115us/step - loss: 1.4760 - accuracy: 0.6938 - val_loss: 1.6550 - val_accuracy: 0.6530\n"
          ],
          "name": "stdout"
        },
        {
          "output_type": "display_data",
          "data": {
            "image/png": "[encoded data removed]",
            "text/plain": [
              "<Figure size 432x288 with 1 Axes>"
            ]
          },
          "metadata": {
            "tags": [],
            "needs_background": "light"
          }
        }
      ]
    },
    {
      "cell_type": "code",
      "metadata": {
        "id": "nJg4rjmFy3rG",
        "colab_type": "code",
        "colab": {
          "base_uri": "https://localhost:8080/",
          "height": 72
        },
        "outputId": "51275759-e1e1-48b7-fbbb-073086f466f3"
      },
      "source": [
        "# Evaluate its performance on the test data.\n",
        "test_loss, test_acc = model1.evaluate(x_val, y_val)\n",
        "print('test_acc:', test_acc)\n",
        "print('test_loss:', test_loss)"
      ],
      "execution_count": null,
      "outputs": [
        {
          "output_type": "stream",
          "text": [
            "1000/1000 [==============================] - 0s 95us/step\n",
            "test_acc: 0.652999997138977\n",
            "test_loss: 1.6550216979980468\n"
          ],
          "name": "stdout"
        }
      ]
    },
    {
      "cell_type": "markdown",
      "metadata": {
        "id": "M6wV_AR23oiI",
        "colab_type": "text"
      },
      "source": [
        "\n",
        "You should see the model performance drop. This drop is mostly due to the fact that we are now trying to compress a lot of information (enough information to recover the separation hyperplanes of 46 classes) into an intermediate space that is too low-dimensional. The network is able to cram _most_ of the necessary information into these 8-dimensional representations, but not all of it."
      ]
    },
    {
      "cell_type": "markdown",
      "metadata": {
        "id": "8bFLuR8b3oiI",
        "colab_type": "text"
      },
      "source": [
        "## Try using larger or smaller hidden layers: 32 units, and 128 units, and see if you will be able to improve the model performance on the test data.\n"
      ]
    },
    {
      "cell_type": "code",
      "metadata": {
        "id": "B1v7pFMGrEik",
        "colab_type": "code",
        "colab": {
          "base_uri": "https://localhost:8080/",
          "height": 785
        },
        "outputId": "36144533-699a-4edb-cb80-f019de22f6ad"
      },
      "source": [
        "# TODO: Try using larger or smaller hidden layers: 32 units, and 128 units\n",
        "\n",
        "# 128 units\n",
        "model_larger = models.Sequential()\n",
        "model_larger.add(layers.Dense(64, activation='relu', input_shape=(10000,)))\n",
        "model_larger.add(layers.Dense(128, activation='relu'))\n",
        "model_larger.add(layers.Dense(128, activation='relu'))\n",
        "model_larger.add(layers.Dense(46, activation='softmax'))\n",
        "model_larger.summary()\n",
        "\n",
        "model_larger.compile(optimizer='rmsprop', \n",
        "                loss='categorical_crossentropy', \n",
        "                metrics=['accuracy']\n",
        "                )\n",
        "\n",
        "\n",
        "history = model_larger.fit(\n",
        "    partial_x_train, \n",
        "    partial_y_train, \n",
        "    epochs=5, \n",
        "    batch_size=512, \n",
        "    validation_data=(x_val, y_val)\n",
        ")\n",
        "\n",
        "\n",
        "acc = history.history['accuracy']\n",
        "val_acc = history.history['val_accuracy']\n",
        "loss = history.history['loss']\n",
        "val_loss = history.history['val_loss']\n",
        "\n",
        "epochs = range(1, len(acc) + 1)\n",
        "\n",
        "# \"bo\" is for \"blue dot\"\n",
        "plt.plot(epochs, loss, 'bo', label='Training loss')\n",
        "# b is for \"solid blue line\"\n",
        "plt.plot(epochs, val_loss, 'b', label='Validation loss')\n",
        "plt.title('Training and validation loss')\n",
        "plt.xlabel('Epochs')\n",
        "plt.ylabel('Loss')\n",
        "plt.legend()\n",
        "\n",
        "plt.show()\n"
      ],
      "execution_count": null,
      "outputs": [
        {
          "output_type": "stream",
          "text": [
            "Model: \"sequential_4\"\n",
            "_________________________________________________________________\n",
            "Layer (type)                 Output Shape              Param #   \n",
            "=================================================================\n",
            "dense_11 (Dense)             (None, 64)                640064    \n",
            "_________________________________________________________________\n",
            "dense_12 (Dense)             (None, 128)               8320      \n",
            "_________________________________________________________________\n",
            "dense_13 (Dense)             (None, 128)               16512     \n",
            "_________________________________________________________________\n",
            "dense_14 (Dense)             (None, 46)                5934      \n",
            "=================================================================\n",
            "Total params: 670,830\n",
            "Trainable params: 670,830\n",
            "Non-trainable params: 0\n",
            "_________________________________________________________________\n",
            "Train on 7982 samples, validate on 1000 samples\n",
            "Epoch 1/5\n",
            "7982/7982 [==============================] - 1s 138us/step - loss: 2.2897 - accuracy: 0.4971 - val_loss: 1.5557 - val_accuracy: 0.6300\n",
            "Epoch 2/5\n",
            "7982/7982 [==============================] - 1s 127us/step - loss: 1.3519 - accuracy: 0.6972 - val_loss: 1.2769 - val_accuracy: 0.7010\n",
            "Epoch 3/5\n",
            "7982/7982 [==============================] - 1s 121us/step - loss: 1.0281 - accuracy: 0.7642 - val_loss: 1.1918 - val_accuracy: 0.7430\n",
            "Epoch 4/5\n",
            "7982/7982 [==============================] - 1s 122us/step - loss: 0.7948 - accuracy: 0.8175 - val_loss: 1.0233 - val_accuracy: 0.7720\n",
            "Epoch 5/5\n",
            "7982/7982 [==============================] - 1s 124us/step - loss: 0.6128 - accuracy: 0.8606 - val_loss: 1.0909 - val_accuracy: 0.7810\n"
          ],
          "name": "stdout"
        },
        {
          "output_type": "display_data",
          "data": {
            "image/png": "[encoded data removed]",
            "text/plain": [
              "<Figure size 432x288 with 1 Axes>"
            ]
          },
          "metadata": {
            "tags": [],
            "needs_background": "light"
          }
        }
      ]
    },
    {
      "cell_type": "code",
      "metadata": {
        "id": "7xTc5RnG2V0H",
        "colab_type": "code",
        "colab": {
          "base_uri": "https://localhost:8080/",
          "height": 72
        },
        "outputId": "9cf1311a-f984-4b36-df20-4cf7a9aab864"
      },
      "source": [
        "# Evaluate its performance on the test data. (unit=128)\n",
        "test_loss, test_acc = model_larger.evaluate(x_val, y_val)\n",
        "print('test_acc:', test_acc)\n",
        "print('test_loss:', test_loss)"
      ],
      "execution_count": null,
      "outputs": [
        {
          "output_type": "stream",
          "text": [
            "1000/1000 [==============================] - 0s 99us/step\n",
            "test_acc: 0.781000018119812\n",
            "test_loss: 1.0909482698440551\n"
          ],
          "name": "stdout"
        }
      ]
    },
    {
      "cell_type": "code",
      "metadata": {
        "id": "a3-tolY9zT7R",
        "colab_type": "code",
        "colab": {
          "base_uri": "https://localhost:8080/",
          "height": 967
        },
        "outputId": "79857c68-891d-4101-ad4f-c24502ab2594"
      },
      "source": [
        "# 32 units\n",
        "model_smaller = models.Sequential()\n",
        "model_smaller.add(layers.Dense(64, activation='relu', input_shape=(10000,)))\n",
        "model_smaller.add(layers.Dense(32, activation='relu'))\n",
        "model_smaller.add(layers.Dense(32, activation='relu'))\n",
        "model_smaller.add(layers.Dense(46, activation='softmax'))\n",
        "model_smaller.summary()\n",
        "\n",
        "model_smaller.compile(optimizer='rmsprop', \n",
        "                loss='categorical_crossentropy', \n",
        "                metrics=['accuracy']\n",
        "                )\n",
        "\n",
        "history = model_larger.fit(\n",
        "    partial_x_train, \n",
        "    partial_y_train, \n",
        "    epochs=10, \n",
        "    batch_size=512, \n",
        "    validation_data=(x_val, y_val)\n",
        ")\n",
        "\n",
        "\n",
        "acc = history.history['accuracy']\n",
        "val_acc = history.history['val_accuracy']\n",
        "loss = history.history['loss']\n",
        "val_loss = history.history['val_loss']\n",
        "\n",
        "epochs = range(1, len(acc) + 1)\n",
        "\n",
        "# \"bo\" is for \"blue dot\"\n",
        "plt.plot(epochs, loss, 'bo', label='Training loss')\n",
        "# b is for \"solid blue line\"\n",
        "plt.plot(epochs, val_loss, 'b', label='Validation loss')\n",
        "plt.title('Training and validation loss')\n",
        "plt.xlabel('Epochs')\n",
        "plt.ylabel('Loss')\n",
        "plt.legend()\n",
        "\n",
        "plt.show()\n"
      ],
      "execution_count": null,
      "outputs": [
        {
          "output_type": "stream",
          "text": [
            "Model: \"sequential_5\"\n",
            "_________________________________________________________________\n",
            "Layer (type)                 Output Shape              Param #   \n",
            "=================================================================\n",
            "dense_15 (Dense)             (None, 64)                640064    \n",
            "_________________________________________________________________\n",
            "dense_16 (Dense)             (None, 32)                2080      \n",
            "_________________________________________________________________\n",
            "dense_17 (Dense)             (None, 32)                1056      \n",
            "_________________________________________________________________\n",
            "dense_18 (Dense)             (None, 46)                1518      \n",
            "=================================================================\n",
            "Total params: 644,718\n",
            "Trainable params: 644,718\n",
            "Non-trainable params: 0\n",
            "_________________________________________________________________\n",
            "Train on 7982 samples, validate on 1000 samples\n",
            "Epoch 1/10\n",
            "7982/7982 [==============================] - 1s 123us/step - loss: 0.4830 - accuracy: 0.8921 - val_loss: 1.0547 - val_accuracy: 0.7840\n",
            "Epoch 2/10\n",
            "7982/7982 [==============================] - 1s 122us/step - loss: 0.3875 - accuracy: 0.9148 - val_loss: 1.1984 - val_accuracy: 0.7560\n",
            "Epoch 3/10\n",
            "7982/7982 [==============================] - 1s 123us/step - loss: 0.3033 - accuracy: 0.9318 - val_loss: 1.0034 - val_accuracy: 0.8110\n",
            "Epoch 4/10\n",
            "7982/7982 [==============================] - 1s 121us/step - loss: 0.2515 - accuracy: 0.9421 - val_loss: 1.1446 - val_accuracy: 0.7850\n",
            "Epoch 5/10\n",
            "7982/7982 [==============================] - 1s 123us/step - loss: 0.2257 - accuracy: 0.9429 - val_loss: 1.0802 - val_accuracy: 0.8080\n",
            "Epoch 6/10\n",
            "7982/7982 [==============================] - 1s 121us/step - loss: 0.1896 - accuracy: 0.9516 - val_loss: 1.2138 - val_accuracy: 0.7710\n",
            "Epoch 7/10\n",
            "7982/7982 [==============================] - 1s 122us/step - loss: 0.1896 - accuracy: 0.9505 - val_loss: 1.1155 - val_accuracy: 0.8000\n",
            "Epoch 8/10\n",
            "7982/7982 [==============================] - 1s 123us/step - loss: 0.1493 - accuracy: 0.9543 - val_loss: 1.1424 - val_accuracy: 0.7980\n",
            "Epoch 9/10\n",
            "7982/7982 [==============================] - 1s 124us/step - loss: 0.1532 - accuracy: 0.9549 - val_loss: 1.1233 - val_accuracy: 0.7930\n",
            "Epoch 10/10\n",
            "7982/7982 [==============================] - 1s 128us/step - loss: 0.1340 - accuracy: 0.9577 - val_loss: 1.1053 - val_accuracy: 0.8070\n"
          ],
          "name": "stdout"
        },
        {
          "output_type": "display_data",
          "data": {
            "image/png": "[encoded data removed]",
            "text/plain": [
              "<Figure size 432x288 with 1 Axes>"
            ]
          },
          "metadata": {
            "tags": [],
            "needs_background": "light"
          }
        }
      ]
    },
    {
      "cell_type": "code",
      "metadata": {
        "id": "MS25qHH72qAM",
        "colab_type": "code",
        "colab": {
          "base_uri": "https://localhost:8080/",
          "height": 72
        },
        "outputId": "2ad45490-4b05-4263-beb8-44402c51a4c8"
      },
      "source": [
        "# Evaluate its performance on the test data.(unit=32)\n",
        "test_loss, test_acc = model_smaller.evaluate(x_val, y_val)\n",
        "print('test_acc:', test_acc)\n",
        "print('test_loss:', test_loss)"
      ],
      "execution_count": null,
      "outputs": [
        {
          "output_type": "stream",
          "text": [
            "1000/1000 [==============================] - 0s 136us/step\n",
            "test_acc: 0.027000000700354576\n",
            "test_loss: 3.823282604217529\n"
          ],
          "name": "stdout"
        }
      ]
    },
    {
      "cell_type": "markdown",
      "metadata": {
        "id": "qJ1JPiTErD7X",
        "colab_type": "text"
      },
      "source": [
        "\n",
        "## We were using two hidden layers. Now try to use a single hidden layer, or three hidden layers, and see if you will be able to improve the model performance on the test data.\n",
        "\n"
      ]
    },
    {
      "cell_type": "code",
      "metadata": {
        "id": "6zukIClyrh3k",
        "colab_type": "code",
        "colab": {
          "base_uri": "https://localhost:8080/",
          "height": 931
        },
        "outputId": "019ce5d9-5003-418a-a12a-16901970a07c"
      },
      "source": [
        "# TODO: Try to use a single hidden layer, or three hidden layers\n",
        "\n",
        "# single hidden layer\n",
        "model_single = models.Sequential()\n",
        "model_single.add(layers.Dense(64, activation='relu', input_shape=(10000,)))\n",
        "model_single.add(layers.Dense(64, activation='relu'))\n",
        "model_single.add(layers.Dense(46, activation='softmax'))\n",
        "model_single.summary()\n",
        "\n",
        "model_single.compile(optimizer='rmsprop', \n",
        "                loss='categorical_crossentropy', \n",
        "                metrics=['accuracy']\n",
        "                )\n",
        "\n",
        "history = model_single.fit(\n",
        "    partial_x_train, \n",
        "    partial_y_train, \n",
        "    epochs=10, \n",
        "    batch_size=512, \n",
        "    validation_data=(x_val, y_val)\n",
        ")\n",
        "\n",
        "acc = history.history['accuracy']\n",
        "val_acc = history.history['val_accuracy']\n",
        "loss = history.history['loss']\n",
        "val_loss = history.history['val_loss']\n",
        "\n",
        "epochs = range(1, len(acc) + 1)\n",
        "\n",
        "# \"bo\" is for \"blue dot\"\n",
        "plt.plot(epochs, loss, 'bo', label='Training loss')\n",
        "# b is for \"solid blue line\"\n",
        "plt.plot(epochs, val_loss, 'b', label='Validation loss')\n",
        "plt.title('Training and validation loss')\n",
        "plt.xlabel('Epochs')\n",
        "plt.ylabel('Loss')\n",
        "plt.legend()\n",
        "\n",
        "plt.show()"
      ],
      "execution_count": null,
      "outputs": [
        {
          "output_type": "stream",
          "text": [
            "Model: \"sequential_6\"\n",
            "_________________________________________________________________\n",
            "Layer (type)                 Output Shape              Param #   \n",
            "=================================================================\n",
            "dense_19 (Dense)             (None, 64)                640064    \n",
            "_________________________________________________________________\n",
            "dense_20 (Dense)             (None, 64)                4160      \n",
            "_________________________________________________________________\n",
            "dense_21 (Dense)             (None, 46)                2990      \n",
            "=================================================================\n",
            "Total params: 647,214\n",
            "Trainable params: 647,214\n",
            "Non-trainable params: 0\n",
            "_________________________________________________________________\n",
            "Train on 7982 samples, validate on 1000 samples\n",
            "Epoch 1/10\n",
            "7982/7982 [==============================] - 1s 134us/step - loss: 2.5848 - accuracy: 0.5117 - val_loss: 1.7059 - val_accuracy: 0.6520\n",
            "Epoch 2/10\n",
            "7982/7982 [==============================] - 1s 117us/step - loss: 1.3831 - accuracy: 0.7082 - val_loss: 1.2813 - val_accuracy: 0.7230\n",
            "Epoch 3/10\n",
            "7982/7982 [==============================] - 1s 117us/step - loss: 1.0258 - accuracy: 0.7780 - val_loss: 1.1376 - val_accuracy: 0.7500\n",
            "Epoch 4/10\n",
            "7982/7982 [==============================] - 1s 116us/step - loss: 0.8152 - accuracy: 0.8231 - val_loss: 1.0480 - val_accuracy: 0.7770\n",
            "Epoch 5/10\n",
            "7982/7982 [==============================] - 1s 116us/step - loss: 0.6477 - accuracy: 0.8618 - val_loss: 0.9925 - val_accuracy: 0.7900\n",
            "Epoch 6/10\n",
            "7982/7982 [==============================] - 1s 118us/step - loss: 0.5197 - accuracy: 0.8914 - val_loss: 0.9489 - val_accuracy: 0.7920\n",
            "Epoch 7/10\n",
            "7982/7982 [==============================] - 1s 118us/step - loss: 0.4170 - accuracy: 0.9151 - val_loss: 0.9429 - val_accuracy: 0.7960\n",
            "Epoch 8/10\n",
            "7982/7982 [==============================] - 1s 115us/step - loss: 0.3408 - accuracy: 0.9306 - val_loss: 0.9234 - val_accuracy: 0.8010\n",
            "Epoch 9/10\n",
            "7982/7982 [==============================] - 1s 117us/step - loss: 0.2841 - accuracy: 0.9366 - val_loss: 0.8931 - val_accuracy: 0.8140\n",
            "Epoch 10/10\n",
            "7982/7982 [==============================] - 1s 116us/step - loss: 0.2381 - accuracy: 0.9458 - val_loss: 0.9433 - val_accuracy: 0.8020\n"
          ],
          "name": "stdout"
        },
        {
          "output_type": "display_data",
          "data": {
            "image/png": "[encoded data removed]",
            "text/plain": [
              "<Figure size 432x288 with 1 Axes>"
            ]
          },
          "metadata": {
            "tags": [],
            "needs_background": "light"
          }
        }
      ]
    },
    {
      "cell_type": "code",
      "metadata": {
        "id": "5lfui9k9TT5N",
        "colab_type": "code",
        "colab": {
          "base_uri": "https://localhost:8080/",
          "height": 72
        },
        "outputId": "c5097514-a17c-439b-89ed-551c04a1dfe5"
      },
      "source": [
        "# Evaluate its performance on the test data.\n",
        "test_loss, test_acc = model_single.evaluate(x_val, y_val)\n",
        "print('test_acc:', test_acc)\n",
        "print('test_loss:', test_loss)"
      ],
      "execution_count": null,
      "outputs": [
        {
          "output_type": "stream",
          "text": [
            "1000/1000 [==============================] - 0s 113us/step\n",
            "test_acc: 0.8019999861717224\n",
            "test_loss: 0.9432847023010253\n"
          ],
          "name": "stdout"
        }
      ]
    },
    {
      "cell_type": "code",
      "metadata": {
        "id": "VccdJfRL8Y4s",
        "colab_type": "code",
        "colab": {
          "base_uri": "https://localhost:8080/",
          "height": 1000
        },
        "outputId": "85543318-c272-442b-8f93-239cf6afa1c5"
      },
      "source": [
        "# Three hidden layers\n",
        "model_three = models.Sequential()\n",
        "model_three.add(layers.Dense(64, activation='relu', input_shape=(10000,)))\n",
        "model_three.add(layers.Dense(64, activation='relu'))\n",
        "model_three.add(layers.Dense(64, activation='relu'))\n",
        "model_three.add(layers.Dense(64, activation='relu'))\n",
        "model_three.add(layers.Dense(46, activation='softmax'))\n",
        "model_three.summary()\n",
        "\n",
        "model_three.compile(optimizer='rmsprop', \n",
        "                loss='categorical_crossentropy', \n",
        "                metrics=['accuracy']\n",
        "                )\n",
        "\n",
        "history = model_three.fit(\n",
        "    partial_x_train, \n",
        "    partial_y_train, \n",
        "    epochs=10, \n",
        "    batch_size=512, \n",
        "    validation_data=(x_val, y_val)\n",
        ")\n",
        "\n",
        "acc = history.history['accuracy']\n",
        "val_acc = history.history['val_accuracy']\n",
        "loss = history.history['loss']\n",
        "val_loss = history.history['val_loss']\n",
        "\n",
        "epochs = range(1, len(acc) + 1)\n",
        "\n",
        "# \"bo\" is for \"blue dot\"\n",
        "plt.plot(epochs, loss, 'bo', label='Training loss')\n",
        "# b is for \"solid blue line\"\n",
        "plt.plot(epochs, val_loss, 'b', label='Validation loss')\n",
        "plt.title('Training and validation loss')\n",
        "plt.xlabel('Epochs')\n",
        "plt.ylabel('Loss')\n",
        "plt.legend()\n",
        "\n",
        "plt.show()"
      ],
      "execution_count": null,
      "outputs": [
        {
          "output_type": "stream",
          "text": [
            "Model: \"sequential_7\"\n",
            "_________________________________________________________________\n",
            "Layer (type)                 Output Shape              Param #   \n",
            "=================================================================\n",
            "dense_22 (Dense)             (None, 64)                640064    \n",
            "_________________________________________________________________\n",
            "dense_23 (Dense)             (None, 64)                4160      \n",
            "_________________________________________________________________\n",
            "dense_24 (Dense)             (None, 64)                4160      \n",
            "_________________________________________________________________\n",
            "dense_25 (Dense)             (None, 64)                4160      \n",
            "_________________________________________________________________\n",
            "dense_26 (Dense)             (None, 46)                2990      \n",
            "=================================================================\n",
            "Total params: 655,534\n",
            "Trainable params: 655,534\n",
            "Non-trainable params: 0\n",
            "_________________________________________________________________\n",
            "Train on 7982 samples, validate on 1000 samples\n",
            "Epoch 1/10\n",
            "7982/7982 [==============================] - 1s 142us/step - loss: 2.7424 - accuracy: 0.4092 - val_loss: 1.7919 - val_accuracy: 0.5890\n",
            "Epoch 2/10\n",
            "7982/7982 [==============================] - 1s 116us/step - loss: 1.5226 - accuracy: 0.6634 - val_loss: 1.3931 - val_accuracy: 0.6920\n",
            "Epoch 3/10\n",
            "7982/7982 [==============================] - 1s 116us/step - loss: 1.1667 - accuracy: 0.7321 - val_loss: 1.2314 - val_accuracy: 0.7230\n",
            "Epoch 4/10\n",
            "7982/7982 [==============================] - 1s 117us/step - loss: 0.9674 - accuracy: 0.7722 - val_loss: 1.1228 - val_accuracy: 0.7580\n",
            "Epoch 5/10\n",
            "7982/7982 [==============================] - 1s 119us/step - loss: 0.7944 - accuracy: 0.8162 - val_loss: 1.0563 - val_accuracy: 0.7720\n",
            "Epoch 6/10\n",
            "7982/7982 [==============================] - 1s 117us/step - loss: 0.6220 - accuracy: 0.8555 - val_loss: 1.0668 - val_accuracy: 0.7700\n",
            "Epoch 7/10\n",
            "7982/7982 [==============================] - 1s 117us/step - loss: 0.5050 - accuracy: 0.8817 - val_loss: 1.1066 - val_accuracy: 0.7660\n",
            "Epoch 8/10\n",
            "7982/7982 [==============================] - 1s 116us/step - loss: 0.4334 - accuracy: 0.8979 - val_loss: 0.9956 - val_accuracy: 0.8000\n",
            "Epoch 9/10\n",
            "7982/7982 [==============================] - 1s 113us/step - loss: 0.3434 - accuracy: 0.9238 - val_loss: 1.1030 - val_accuracy: 0.7910\n",
            "Epoch 10/10\n",
            "7982/7982 [==============================] - 1s 115us/step - loss: 0.2910 - accuracy: 0.9332 - val_loss: 1.1668 - val_accuracy: 0.7870\n"
          ],
          "name": "stdout"
        },
        {
          "output_type": "display_data",
          "data": {
            "image/png": "[encoded data removed]",
            "text/plain": [
              "<Figure size 432x288 with 1 Axes>"
            ]
          },
          "metadata": {
            "tags": [],
            "needs_background": "light"
          }
        }
      ]
    },
    {
      "cell_type": "code",
      "metadata": {
        "id": "Q8zV8dDWTcg5",
        "colab_type": "code",
        "colab": {
          "base_uri": "https://localhost:8080/",
          "height": 72
        },
        "outputId": "751e6a74-dec7-4a77-e07b-39c5e63f887f"
      },
      "source": [
        "# Evaluate its performance on the test data.\n",
        "test_loss, test_acc = model_three.evaluate(x_val, y_val)\n",
        "print('test_acc:', test_acc)\n",
        "print('test_loss:', test_loss)"
      ],
      "execution_count": null,
      "outputs": [
        {
          "output_type": "stream",
          "text": [
            "1000/1000 [==============================] - 0s 114us/step\n",
            "test_acc: 0.7870000004768372\n",
            "test_loss: 1.166808536529541\n"
          ],
          "name": "stdout"
        }
      ]
    },
    {
      "cell_type": "markdown",
      "metadata": {
        "id": "gldwCoKB3oiI",
        "colab_type": "text"
      },
      "source": [
        "## Wrapping up\n",
        "\n",
        "\n",
        "Here's what you should take away from this example:\n",
        "\n",
        "* If you are trying to classify data points between N classes, your network should end with a `Dense` layer of size N.\n",
        "* In a single-label, multi-class classification problem, your network should end with a `softmax` activation, so that it will output a \n",
        "probability distribution over the N output classes.\n",
        "* _Categorical crossentropy_ is almost always the loss function you should use for such problems. It minimizes the distance between the \n",
        "probability distributions output by the network, and the true distribution of the targets.\n",
        "* There are two ways to handle labels in multi-class classification:\n",
        "    ** Encoding the labels via \"categorical encoding\" (also known as \"one-hot encoding\") and using `categorical_crossentropy` as your loss \n",
        "function.\n",
        "    ** Encoding the labels as integers and using the `sparse_categorical_crossentropy` loss function.\n",
        "* If you need to classify data into a large number of categories, then you should avoid creating information bottlenecks in your network by having \n",
        "intermediate layers that are too small."
      ]
    },
    {
      "cell_type": "markdown",
      "metadata": {
        "id": "aKekl-HuGXiU",
        "colab_type": "text"
      },
      "source": [
        "## Bonus Point\n",
        "Can you think of other methods to further improve the model performance? Code it up and evaluate them."
      ]
    },
    {
      "cell_type": "code",
      "metadata": {
        "id": "38I30otcrO-r",
        "colab_type": "code",
        "colab": {
          "base_uri": "https://localhost:8080/",
          "height": 785
        },
        "outputId": "bd0bc11f-2243-447e-816b-6375fec4f8e9"
      },
      "source": [
        "# The functional API\n",
        "import keras\n",
        "from keras import layers\n",
        "from keras.layers import Input, Dense\n",
        "from keras.models import Model\n",
        "\n",
        "# This returns a tensor\n",
        "inputs = keras.Input(shape=(10000,))\n",
        "output_1 = layers.Dense(128, activation='relu')(inputs)\n",
        "output_2 = layers.Dense(128, activation='relu')(output_1)\n",
        "outputs = layers.Dense(46, activation='softmax')(output_2)\n",
        "\n",
        "# This creates a model that includes\n",
        "# the Input layer and three Dense layers\n",
        "model_func = Model(inputs=inputs, outputs=outputs)\n",
        "model_func.summary()\n",
        "\n",
        "model_func.compile(optimizer='rmsprop', \n",
        "                loss='categorical_crossentropy', \n",
        "                metrics=['accuracy']\n",
        "                )\n",
        "\n",
        "history = model_func.fit(\n",
        "    partial_x_train, \n",
        "    partial_y_train, \n",
        "    epochs=5, \n",
        "    batch_size=512, \n",
        "    validation_data=(x_val, y_val)\n",
        ")\n",
        "\n",
        "acc = history.history['accuracy']\n",
        "val_acc = history.history['val_accuracy']\n",
        "loss = history.history['loss']\n",
        "val_loss = history.history['val_loss']\n",
        "\n",
        "epochs = range(1, len(acc) + 1)\n",
        "\n",
        "# \"bo\" is for \"blue dot\"\n",
        "plt.plot(epochs, loss, 'bo', label='Training loss')\n",
        "# b is for \"solid blue line\"\n",
        "plt.plot(epochs, val_loss, 'b', label='Validation loss')\n",
        "plt.title('Training and validation loss')\n",
        "plt.xlabel('Epochs')\n",
        "plt.ylabel('Loss')\n",
        "plt.legend()\n",
        "\n",
        "plt.show()"
      ],
      "execution_count": null,
      "outputs": [
        {
          "output_type": "stream",
          "text": [
            "Model: \"model_4\"\n",
            "_________________________________________________________________\n",
            "Layer (type)                 Output Shape              Param #   \n",
            "=================================================================\n",
            "input_4 (InputLayer)         (None, 10000)             0         \n",
            "_________________________________________________________________\n",
            "dense_42 (Dense)             (None, 128)               1280128   \n",
            "_________________________________________________________________\n",
            "dense_43 (Dense)             (None, 128)               16512     \n",
            "_________________________________________________________________\n",
            "dense_44 (Dense)             (None, 46)                5934      \n",
            "=================================================================\n",
            "Total params: 1,302,574\n",
            "Trainable params: 1,302,574\n",
            "Non-trainable params: 0\n",
            "_________________________________________________________________\n",
            "Train on 7982 samples, validate on 1000 samples\n",
            "Epoch 1/5\n",
            "7982/7982 [==============================] - 2s 208us/step - loss: 2.2861 - accuracy: 0.5650 - val_loss: 1.4096 - val_accuracy: 0.7010\n",
            "Epoch 2/5\n",
            "7982/7982 [==============================] - 1s 174us/step - loss: 1.1314 - accuracy: 0.7610 - val_loss: 1.1389 - val_accuracy: 0.7390\n",
            "Epoch 3/5\n",
            "7982/7982 [==============================] - 1s 174us/step - loss: 0.7998 - accuracy: 0.8261 - val_loss: 0.9825 - val_accuracy: 0.7980\n",
            "Epoch 4/5\n",
            "7982/7982 [==============================] - 1s 182us/step - loss: 0.5787 - accuracy: 0.8835 - val_loss: 0.9298 - val_accuracy: 0.8100\n",
            "Epoch 5/5\n",
            "7982/7982 [==============================] - 1s 178us/step - loss: 0.4310 - accuracy: 0.9118 - val_loss: 0.8850 - val_accuracy: 0.8180\n"
          ],
          "name": "stdout"
        },
        {
          "output_type": "display_data",
          "data": {
            "image/png": "[encoded data removed]",
            "text/plain": [
              "<Figure size 432x288 with 1 Axes>"
            ]
          },
          "metadata": {
            "tags": [],
            "needs_background": "light"
          }
        }
      ]
    },
    {
      "cell_type": "code",
      "metadata": {
        "id": "vJRA0B8e6lKX",
        "colab_type": "code",
        "colab": {
          "base_uri": "https://localhost:8080/",
          "height": 72
        },
        "outputId": "1e1088f8-423a-481e-9f0a-9602d1c88012"
      },
      "source": [
        "# Evaluate its performance on the test data.\n",
        "test_loss, test_acc = model_func.evaluate(x_val, y_val)\n",
        "print('test_acc:', test_acc)\n",
        "print('test_loss:', test_loss)"
      ],
      "execution_count": null,
      "outputs": [
        {
          "output_type": "stream",
          "text": [
            "1000/1000 [==============================] - 0s 140us/step\n",
            "test_acc: 0.8180000185966492\n",
            "test_loss: 0.8849934473037719\n"
          ],
          "name": "stdout"
        }
      ]
    },
    {
      "cell_type": "code",
      "metadata": {
        "id": "GYgRpOPycbaf",
        "colab_type": "code",
        "colab": {
          "base_uri": "https://localhost:8080/",
          "height": 495
        },
        "outputId": "38383447-6838-458c-c19b-9ec171deab52"
      },
      "source": [
        "# Model subclassing\n",
        "import keras\n",
        "from keras import layers\n",
        "from keras.layers import Input, Dense\n",
        "from keras.models import Model\n",
        "\n",
        "class MyModel(keras.Model): \n",
        "  def __init__(self):\n",
        "    super(MyModel, self).__init__()\n",
        "    self.dense1 = layers.Dense(128, activation='relu')\n",
        "    self.dense2 = layers.Dense(128, activation='relu')\n",
        "    self.dense2 = layers.Dense(128, activation='relu')\n",
        "    self.dense3 = layers.Dense(46, activation='softmax')\n",
        "\n",
        "  def call(self, inputs): \n",
        "    output_1 = self.dense1(inputs)\n",
        "    output_2 = self.dense2(output_1)\n",
        "    return self.dense3(output_2)\n",
        "\n",
        "model_subc = MyModel()\n",
        "\n",
        "model_subc.compile(optimizer='rmsprop', \n",
        "            loss='categorical_crossentropy', \n",
        "            metrics=['accuracy']\n",
        "            )\n",
        "\n",
        "history = model_subc.fit(\n",
        "    partial_x_train, \n",
        "    partial_y_train, \n",
        "    epochs=5, \n",
        "    batch_size=512, \n",
        "    validation_data=(x_val, y_val)\n",
        ")\n",
        "\n",
        "acc = history.history['accuracy']\n",
        "val_acc = history.history['val_accuracy']\n",
        "loss = history.history['loss']\n",
        "val_loss = history.history['val_loss']\n",
        "\n",
        "epochs = range(1, len(acc) + 1)\n",
        "\n",
        "# \"bo\" is for \"blue dot\"\n",
        "plt.plot(epochs, loss, 'bo', label='Training loss')\n",
        "# b is for \"solid blue line\"\n",
        "plt.plot(epochs, val_loss, 'b', label='Validation loss')\n",
        "plt.title('Training and validation loss')\n",
        "plt.xlabel('Epochs')\n",
        "plt.ylabel('Loss')\n",
        "plt.legend()\n",
        "\n",
        "plt.show()\n"
      ],
      "execution_count": null,
      "outputs": [
        {
          "output_type": "stream",
          "text": [
            "Train on 7982 samples, validate on 1000 samples\n",
            "Epoch 1/5\n",
            "7982/7982 [==============================] - 2s 214us/step - loss: 2.1737 - accuracy: 0.5578 - val_loss: 1.3791 - val_accuracy: 0.6900\n",
            "Epoch 2/5\n",
            "7982/7982 [==============================] - 1s 178us/step - loss: 1.1058 - accuracy: 0.7597 - val_loss: 1.0871 - val_accuracy: 0.7660\n",
            "Epoch 3/5\n",
            "7982/7982 [==============================] - 1s 180us/step - loss: 0.7687 - accuracy: 0.8374 - val_loss: 1.0384 - val_accuracy: 0.7740\n",
            "Epoch 4/5\n",
            "7982/7982 [==============================] - 1s 179us/step - loss: 0.5600 - accuracy: 0.8830 - val_loss: 0.8948 - val_accuracy: 0.8100\n",
            "Epoch 5/5\n",
            "7982/7982 [==============================] - 1s 177us/step - loss: 0.4072 - accuracy: 0.9169 - val_loss: 0.8518 - val_accuracy: 0.8310\n"
          ],
          "name": "stdout"
        },
        {
          "output_type": "display_data",
          "data": {
            "image/png": "[encoded data removed]",
            "text/plain": [
              "<Figure size 432x288 with 1 Axes>"
            ]
          },
          "metadata": {
            "tags": [],
            "needs_background": "light"
          }
        }
      ]
    },
    {
      "cell_type": "code",
      "metadata": {
        "id": "0fl5R6QPcbhP",
        "colab_type": "code",
        "colab": {
          "base_uri": "https://localhost:8080/",
          "height": 72
        },
        "outputId": "0218acfa-2bdd-4b24-eb6a-30a290c744b7"
      },
      "source": [
        "# Evaluate its performance on the test data.\n",
        "test_loss, test_acc = model_subc.evaluate(x_val, y_val)\n",
        "print('test_acc:', test_acc)\n",
        "print('test_loss:', test_loss)"
      ],
      "execution_count": null,
      "outputs": [
        {
          "output_type": "stream",
          "text": [
            "1000/1000 [==============================] - 0s 144us/step\n",
            "test_acc: 0.8309999704360962\n",
            "test_loss: 0.8517587490081787\n"
          ],
          "name": "stdout"
        }
      ]
    }
  ]
}